{
  "nbformat": 4,
  "nbformat_minor": 0,
  "metadata": {
    "colab": {
      "name": "ETICA - TP2: demoliendo estereotipos de clase.ipynb",
      "provenance": [],
      "collapsed_sections": [],
      "toc_visible": true
    },
    "kernelspec": {
      "name": "python3",
      "display_name": "Python 3"
    },
    "language_info": {
      "name": "python"
    }
  },
  "cells": [
    {
      "cell_type": "markdown",
      "metadata": {
        "id": "cVxrwN3ZymhD"
      },
      "source": [
        "# **Desaprendiendo estereotipos en Aprendizaje Automático**\n",
        "\n",
        "##Trabajo práctico nº2\n",
        "\n",
        "Integrantes:\n",
        "\n",
        "\n",
        "*   Susana Araujo\n",
        "*   Ivana Feldfeber\n",
        "*   Tamara Maggioni"
      ]
    },
    {
      "cell_type": "markdown",
      "metadata": {
        "id": "Xm8Fw0cy3FRE"
      },
      "source": [
        "#**1. Instalación y validación de la librería responsibly**"
      ]
    },
    {
      "cell_type": "code",
      "metadata": {
        "id": "_06mzhdm2B66"
      },
      "source": [
        "import matplotlib\n",
        "import gensim"
      ],
      "execution_count": null,
      "outputs": []
    },
    {
      "cell_type": "code",
      "metadata": {
        "colab": {
          "base_uri": "https://localhost:8080/"
        },
        "id": "L5TsvMiE1eGM",
        "outputId": "8d684175-faa9-4bcf-9393-88820bd7f920"
      },
      "source": [
        "!pip install --user responsibly"
      ],
      "execution_count": null,
      "outputs": [
        {
          "output_type": "stream",
          "name": "stdout",
          "text": [
            "Requirement already satisfied: responsibly in /root/.local/lib/python3.7/site-packages (0.1.3)\n",
            "Requirement already satisfied: numpy>=1.15 in /usr/local/lib/python3.7/dist-packages (from responsibly) (1.19.5)\n",
            "Requirement already satisfied: scipy>=1.1 in /usr/local/lib/python3.7/dist-packages (from responsibly) (1.4.1)\n",
            "Requirement already satisfied: seaborn>=0.9 in /usr/local/lib/python3.7/dist-packages (from responsibly) (0.11.2)\n",
            "Requirement already satisfied: gensim<3.8,>=3.7 in /root/.local/lib/python3.7/site-packages (from responsibly) (3.7.3)\n",
            "Requirement already satisfied: tabulate>=0.8 in /usr/local/lib/python3.7/dist-packages (from responsibly) (0.8.9)\n",
            "Requirement already satisfied: six>=1.10 in /usr/local/lib/python3.7/dist-packages (from responsibly) (1.15.0)\n",
            "Requirement already satisfied: mlxtend<0.17,>=0.13 in /usr/local/lib/python3.7/dist-packages (from responsibly) (0.14.0)\n",
            "Requirement already satisfied: tqdm>=4.24 in /usr/local/lib/python3.7/dist-packages (from responsibly) (4.62.3)\n",
            "Requirement already satisfied: scikit-learn>=0.19 in /usr/local/lib/python3.7/dist-packages (from responsibly) (1.0.1)\n",
            "Requirement already satisfied: matplotlib<3,>=2.2 in /root/.local/lib/python3.7/site-packages (from responsibly) (2.2.5)\n",
            "Requirement already satisfied: click>=6.0 in /usr/local/lib/python3.7/dist-packages (from responsibly) (7.1.2)\n",
            "Requirement already satisfied: pandas>=0.23 in /usr/local/lib/python3.7/dist-packages (from responsibly) (1.1.5)\n",
            "Requirement already satisfied: smart-open>=1.7.0 in /usr/local/lib/python3.7/dist-packages (from gensim<3.8,>=3.7->responsibly) (5.2.1)\n",
            "Requirement already satisfied: cycler>=0.10 in /usr/local/lib/python3.7/dist-packages (from matplotlib<3,>=2.2->responsibly) (0.11.0)\n",
            "Requirement already satisfied: kiwisolver>=1.0.1 in /usr/local/lib/python3.7/dist-packages (from matplotlib<3,>=2.2->responsibly) (1.3.2)\n",
            "Requirement already satisfied: python-dateutil>=2.1 in /usr/local/lib/python3.7/dist-packages (from matplotlib<3,>=2.2->responsibly) (2.8.2)\n",
            "Requirement already satisfied: pyparsing!=2.0.4,!=2.1.2,!=2.1.6,>=2.0.1 in /usr/local/lib/python3.7/dist-packages (from matplotlib<3,>=2.2->responsibly) (3.0.6)\n",
            "Requirement already satisfied: pytz in /usr/local/lib/python3.7/dist-packages (from matplotlib<3,>=2.2->responsibly) (2018.9)\n",
            "Requirement already satisfied: setuptools in /usr/local/lib/python3.7/dist-packages (from mlxtend<0.17,>=0.13->responsibly) (57.4.0)\n",
            "Requirement already satisfied: joblib>=0.11 in /usr/local/lib/python3.7/dist-packages (from scikit-learn>=0.19->responsibly) (1.1.0)\n",
            "Requirement already satisfied: threadpoolctl>=2.0.0 in /usr/local/lib/python3.7/dist-packages (from scikit-learn>=0.19->responsibly) (3.0.0)\n"
          ]
        }
      ]
    },
    {
      "cell_type": "code",
      "metadata": {
        "id": "hYLib1WD1hpe"
      },
      "source": [
        "import responsibly \n",
        "# Debimos reiniciar el entorno de ejecucion para importar correctamente responsibly en Colab"
      ],
      "execution_count": null,
      "outputs": []
    },
    {
      "cell_type": "code",
      "metadata": {
        "colab": {
          "base_uri": "https://localhost:8080/",
          "height": 35
        },
        "id": "1ThFg-rl1ofz",
        "outputId": "8bff90c7-2dc1-4994-d6c5-68d9810a3fc2"
      },
      "source": [
        "responsibly.__version__"
      ],
      "execution_count": null,
      "outputs": [
        {
          "output_type": "execute_result",
          "data": {
            "application/vnd.google.colaboratory.intrinsic+json": {
              "type": "string"
            },
            "text/plain": [
              "'0.1.3'"
            ]
          },
          "metadata": {},
          "execution_count": 2
        }
      ]
    },
    {
      "cell_type": "code",
      "metadata": {
        "id": "MJ35fpNh28Dl"
      },
      "source": [
        "import warnings\n",
        "warnings.filterwarnings('ignore')"
      ],
      "execution_count": null,
      "outputs": []
    },
    {
      "cell_type": "markdown",
      "metadata": {
        "id": "9vaAKJxt3Opu"
      },
      "source": [
        "#**2. Diagnosticando sesgos de nivel-socioeconómico**\n",
        "\n",
        "1.   **Definición**: decidimos trabajar sobre la evaluación de un posible sesgo en el uso de palabras en cuanto al nivel socio-económico. Específicamente, decidimos evaluar si el uso de ciertos adjetivos o categorizaciones están asociados a la designación de una persona a un determinado estrato social. \n",
        "2.   **Diagnosticar**: para diagnosticar si nuestro embedding está sesgado en relación a nuestra definición de sesgo, vamos a evaluar las siguientes palabras asociadas a ambos extremos del nivel de ingresos: pobreza, pobre, indigente e indigencia (bajos ingresos) y acaudalado/a, enriquecimiento y riqueza (altos ingresos). \n",
        "3.  **Mitigación**:"
      ]
    },
    {
      "cell_type": "code",
      "metadata": {
        "colab": {
          "base_uri": "https://localhost:8080/"
        },
        "id": "SC-8rwBXA66e",
        "outputId": "b0061066-5cf7-4471-9806-541192821297"
      },
      "source": [
        "# Descargar el modelo e importar librerías necesarias para trabajar en español\n",
        "import numpy as np\n",
        "import logging\n",
        "\n",
        "from numpy.linalg import norm\n",
        "from gensim.models import KeyedVectors\n",
        "from sklearn.metrics import classification_report, accuracy_score\n",
        "\n",
        "logging.basicConfig(format='%(asctime)s : %(message)s', level=logging.INFO)\n",
        "\n",
        "!wget -q http://dcc.uchile.cl/~jperez/word-embeddings/fasttext-sbwc.100k.vec.gz\n",
        "\n",
        "!gzip -d -q fasttext-sbwc.100k.vec.gz\n",
        "!ls"
      ],
      "execution_count": null,
      "outputs": [
        {
          "output_type": "stream",
          "name": "stdout",
          "text": [
            "fasttext-sbwc.100k.vec\tsample_data\n"
          ]
        }
      ]
    },
    {
      "cell_type": "markdown",
      "metadata": {
        "id": "8s8g5orIJ04n"
      },
      "source": [
        "#**3. Exploración del sesgo socioeconómico**"
      ]
    },
    {
      "cell_type": "code",
      "metadata": {
        "colab": {
          "base_uri": "https://localhost:8080/"
        },
        "id": "vZKmG2SaBgzp",
        "outputId": "92d08a4c-406c-4f85-fa1c-986b30f50dff"
      },
      "source": [
        "we_es = KeyedVectors.load_word2vec_format('fasttext-sbwc.100k.vec')\n",
        "# Esto normaliza los vectores\n",
        "we_es.init_sims(replace=True)"
      ],
      "execution_count": null,
      "outputs": [
        {
          "output_type": "stream",
          "name": "stderr",
          "text": [
            "2021-12-05 14:36:20,378 : loading projection weights from fasttext-sbwc.100k.vec\n",
            "2021-12-05 14:36:52,845 : loaded (100000, 300) matrix from fasttext-sbwc.100k.vec\n",
            "2021-12-05 14:36:52,849 : precomputing L2-norms of word weight vectors\n"
          ]
        }
      ]
    },
    {
      "cell_type": "code",
      "metadata": {
        "id": "ZLo3co5OBvQ7"
      },
      "source": [
        "# Todos los vectores deberían tener norma 1, o cercana a 1\n",
        "\n",
        "from numpy.testing import assert_almost_equal\n",
        "\n",
        "length_vectors = norm(we_es.vectors_norm, axis=1)\n",
        "\n",
        "assert_almost_equal(actual=length_vectors,\n",
        "                    desired=1,\n",
        "                    decimal=5)"
      ],
      "execution_count": null,
      "outputs": []
    },
    {
      "cell_type": "markdown",
      "metadata": {
        "id": "6lZW_IYniEKb"
      },
      "source": [
        "### 3.a. **Acaudalado/a vs. pobre, pobreza, indigente, indigencia**"
      ]
    },
    {
      "cell_type": "code",
      "metadata": {
        "colab": {
          "base_uri": "https://localhost:8080/"
        },
        "id": "efpTFg7qCpy8",
        "outputId": "177a79ef-28fa-426c-fd15-b61c634a3145"
      },
      "source": [
        "we_es.most_similar(positive=['acaudalado'],negative=['pobre'])"
      ],
      "execution_count": null,
      "outputs": [
        {
          "output_type": "execute_result",
          "data": {
            "text/plain": [
              "[('acaudalados', 0.43424752354621887),\n",
              " ('acaudalada', 0.3820391893386841),\n",
              " ('naviero', 0.3686026334762573),\n",
              " ('empresario', 0.3673766553401947),\n",
              " ('financista', 0.36122995615005493),\n",
              " ('filántropo', 0.35798555612564087),\n",
              " ('hacendado', 0.33088910579681396),\n",
              " ('adinerado', 0.32979580760002136),\n",
              " ('magnate', 0.32935506105422974),\n",
              " ('terrateniente', 0.3198912739753723)]"
            ]
          },
          "metadata": {},
          "execution_count": 11
        }
      ]
    },
    {
      "cell_type": "code",
      "metadata": {
        "colab": {
          "base_uri": "https://localhost:8080/"
        },
        "id": "D0dBeNHeDG9O",
        "outputId": "3dfeddf1-93aa-4763-fa8a-75a64aff1c93"
      },
      "source": [
        "we_es.most_similar(positive=['pobre'],negative=['acaudalado'])"
      ],
      "execution_count": null,
      "outputs": [
        {
          "output_type": "execute_result",
          "data": {
            "text/plain": [
              "[('paupérrima', 0.40233248472213745),\n",
              " ('deficiente', 0.3777438700199127),\n",
              " ('deficientes', 0.34917011857032776),\n",
              " ('mala', 0.3468587398529053),\n",
              " ('mediocre', 0.31820404529571533),\n",
              " ('inadecuada', 0.31413936614990234),\n",
              " ('paupérrimo', 0.310539186000824),\n",
              " ('pésima', 0.3094373047351837),\n",
              " ('carencias', 0.2961694002151489),\n",
              " ('desnutridos', 0.2958577871322632)]"
            ]
          },
          "metadata": {},
          "execution_count": 10
        }
      ]
    },
    {
      "cell_type": "code",
      "metadata": {
        "colab": {
          "base_uri": "https://localhost:8080/"
        },
        "id": "9a2HJC17XXbU",
        "outputId": "240c65e9-dc81-4d67-e372-671f148f3db4"
      },
      "source": [
        "we_es.most_similar(positive=['acaudalada'],negative=['pobre'])"
      ],
      "execution_count": null,
      "outputs": [
        {
          "output_type": "execute_result",
          "data": {
            "text/plain": [
              "[('acaudalados', 0.3906598389148712),\n",
              " ('acaudalado', 0.3357734680175781),\n",
              " ('filántropa', 0.3287029266357422),\n",
              " ('adinerada', 0.32399556040763855),\n",
              " ('aristocrática', 0.31514889001846313),\n",
              " ('adineradas', 0.3076646327972412),\n",
              " ('condes', 0.3036932647228241),\n",
              " ('adinerados', 0.29249781370162964),\n",
              " ('aristócrata', 0.2922135889530182),\n",
              " ('nobiliaria', 0.28770434856414795)]"
            ]
          },
          "metadata": {},
          "execution_count": 47
        }
      ]
    },
    {
      "cell_type": "code",
      "metadata": {
        "colab": {
          "base_uri": "https://localhost:8080/"
        },
        "id": "_1UzAVfKXasU",
        "outputId": "e933dee2-6fce-4241-cb6d-8dc3ae82e2c0"
      },
      "source": [
        "we_es.most_similar(positive=['pobre'],negative=['acaudalada'])"
      ],
      "execution_count": null,
      "outputs": [
        {
          "output_type": "execute_result",
          "data": {
            "text/plain": [
              "[('deficiente', 0.4087983965873718),\n",
              " ('paupérrimo', 0.39729100465774536),\n",
              " ('mediocre', 0.37447747588157654),\n",
              " ('deficientes', 0.3454912006855011),\n",
              " ('paupérrima', 0.3447824716567993),\n",
              " ('pésimo', 0.3416995704174042),\n",
              " ('mala', 0.3252671957015991),\n",
              " ('carencias', 0.3238861560821533),\n",
              " ('raquítico', 0.3182603120803833),\n",
              " ('pobrecito', 0.31490543484687805)]"
            ]
          },
          "metadata": {},
          "execution_count": 48
        }
      ]
    },
    {
      "cell_type": "markdown",
      "metadata": {
        "id": "aEDUbKxtDsuU"
      },
      "source": [
        "En una primera aproxiamción, podemos ver cómo aparecen adjetivaciones o caracterizaciones sesgadas asociadas la palabra pobre (**mala, mediocre, pésima**), lo que no ocurre para las palabras acaudalado o acuadalada, las que aparecen asociadas a ciertas profesiones o actividades propias de personas con recursos. "
      ]
    },
    {
      "cell_type": "code",
      "metadata": {
        "colab": {
          "base_uri": "https://localhost:8080/"
        },
        "id": "UCoegvN9dPEh",
        "outputId": "6d33032b-6cc1-4a90-8aa5-249c8eb2c2c1"
      },
      "source": [
        "we_es.most_similar(positive=['pobreza'],negative=['acaudalada'])"
      ],
      "execution_count": null,
      "outputs": [
        {
          "output_type": "execute_result",
          "data": {
            "text/plain": [
              "[('subdesarrollo', 0.43983426690101624),\n",
              " ('malnutrición', 0.42508697509765625),\n",
              " ('desnutrición', 0.40622177720069885),\n",
              " ('hambre', 0.4038534164428711),\n",
              " ('marginación', 0.4026400148868561),\n",
              " ('delp', 0.398052841424942),\n",
              " ('erradicación', 0.393252432346344),\n",
              " ('analfabetismo', 0.38571542501449585),\n",
              " ('odm', 0.37094587087631226),\n",
              " ('desertificación', 0.36795613169670105)]"
            ]
          },
          "metadata": {},
          "execution_count": 60
        }
      ]
    },
    {
      "cell_type": "code",
      "metadata": {
        "colab": {
          "base_uri": "https://localhost:8080/"
        },
        "id": "_QOMGYMvdXM-",
        "outputId": "3dc15959-55ce-41df-f01f-cd54cce26ed1"
      },
      "source": [
        "we_es.most_similar(positive=['pobreza'],negative=['acaudalado'])"
      ],
      "execution_count": null,
      "outputs": [
        {
          "output_type": "execute_result",
          "data": {
            "text/plain": [
              "[('malnutrición', 0.43992358446121216),\n",
              " ('subdesarrollo', 0.43919652700424194),\n",
              " ('marginación', 0.43154457211494446),\n",
              " ('erradicación', 0.42546284198760986),\n",
              " ('desnutrición', 0.4074207544326782),\n",
              " ('hambre', 0.4007423520088196),\n",
              " ('extrema', 0.3879070580005646),\n",
              " ('analfabetismo', 0.3818328082561493),\n",
              " ('marginalización', 0.3780117928981781),\n",
              " ('odm', 0.3698006272315979)]"
            ]
          },
          "metadata": {},
          "execution_count": 61
        }
      ]
    },
    {
      "cell_type": "code",
      "metadata": {
        "colab": {
          "base_uri": "https://localhost:8080/"
        },
        "id": "ddh9Z1smi3VU",
        "outputId": "bf490227-07f9-4406-9cf6-e89b34ea4b04"
      },
      "source": [
        "we_es.most_similar(positive=['acaudalada'],negative=['pobreza'])"
      ],
      "execution_count": null,
      "outputs": [
        {
          "output_type": "execute_result",
          "data": {
            "text/plain": [
              "[('acaudalado', 0.5244727730751038),\n",
              " ('adinerada', 0.46732598543167114),\n",
              " ('acomodada', 0.44291555881500244),\n",
              " ('acaudalados', 0.42830586433410645),\n",
              " ('adinerado', 0.42659538984298706),\n",
              " ('aristócrata', 0.420971155166626),\n",
              " ('aristocrática', 0.402455598115921),\n",
              " ('terrateniente', 0.3631148934364319),\n",
              " ('pudiente', 0.3610510230064392),\n",
              " ('comerciante', 0.3583795130252838)]"
            ]
          },
          "metadata": {},
          "execution_count": 66
        }
      ]
    },
    {
      "cell_type": "code",
      "metadata": {
        "colab": {
          "base_uri": "https://localhost:8080/"
        },
        "id": "8aOPIFUyi-pk",
        "outputId": "603f1788-392d-4175-b203-7f247944a238"
      },
      "source": [
        "we_es.most_similar(positive=['acaudalado'],negative=['pobreza'])"
      ],
      "execution_count": null,
      "outputs": [
        {
          "output_type": "execute_result",
          "data": {
            "text/plain": [
              "[('adinerado', 0.5059764981269836),\n",
              " ('acaudalada', 0.4645431637763977),\n",
              " ('comerciante', 0.4537172019481659),\n",
              " ('hacendado', 0.4402766823768616),\n",
              " ('acaudalados', 0.43926888704299927),\n",
              " ('filántropo', 0.42629551887512207),\n",
              " ('aristócrata', 0.41402921080589294),\n",
              " ('negociante', 0.4098464846611023),\n",
              " ('naviero', 0.40465420484542847),\n",
              " ('terrateniente', 0.40149933099746704)]"
            ]
          },
          "metadata": {},
          "execution_count": 67
        }
      ]
    },
    {
      "cell_type": "markdown",
      "metadata": {
        "id": "XYjaslaTd0vh"
      },
      "source": [
        "Cuando analizamos la palabra pobreza en vez de pobre, vemos que no se asocia a sesgos como con pobre, sino más bien con descripciones de la situación o condiciones que padecen las personas en estado de pobreza. \n",
        "\n",
        "Acaudalada o acaudalado, en comparación con pobreza, sí se asocian con **acomodada, comerciante, terrateniente, naviero**. "
      ]
    },
    {
      "cell_type": "code",
      "metadata": {
        "colab": {
          "base_uri": "https://localhost:8080/"
        },
        "id": "2QUHETACWTWe",
        "outputId": "063b8068-0c0c-4163-985e-de19fb204585"
      },
      "source": [
        "we_es.most_similar(positive=['indigente'],negative=['acaudalada'])"
      ],
      "execution_count": null,
      "outputs": [
        {
          "output_type": "execute_result",
          "data": {
            "text/plain": [
              "[('indigentes', 0.37750038504600525),\n",
              " ('drogado', 0.350813627243042),\n",
              " ('taxista', 0.34370943903923035),\n",
              " ('recluso', 0.3369329571723938),\n",
              " ('agresor', 0.33224737644195557),\n",
              " ('agredido', 0.32896900177001953),\n",
              " ('asaltante', 0.3283239006996155),\n",
              " ('quejoso', 0.3266138732433319),\n",
              " ('trailero', 0.32649359107017517),\n",
              " ('atracador', 0.3249642252922058)]"
            ]
          },
          "metadata": {},
          "execution_count": 45
        }
      ]
    },
    {
      "cell_type": "code",
      "metadata": {
        "colab": {
          "base_uri": "https://localhost:8080/"
        },
        "id": "XTUmmr7CXK3o",
        "outputId": "31b12be1-45c5-4d41-daff-56756e7977ec"
      },
      "source": [
        "we_es.most_similar(positive=['indigente'],negative=['acaudalado'])"
      ],
      "execution_count": null,
      "outputs": [
        {
          "output_type": "execute_result",
          "data": {
            "text/plain": [
              "[('indigentes', 0.41657590866088867),\n",
              " ('apuñalamiento', 0.324359655380249),\n",
              " ('agresor', 0.321167916059494),\n",
              " ('victima', 0.3033747673034668),\n",
              " ('agresora', 0.3004763424396515),\n",
              " ('carbonizados', 0.29989808797836304),\n",
              " ('discapacitada', 0.297084778547287),\n",
              " ('inconsciente', 0.29667454957962036),\n",
              " ('recluso', 0.2958819568157196),\n",
              " ('hipotermia', 0.2929873466491699)]"
            ]
          },
          "metadata": {},
          "execution_count": 46
        }
      ]
    },
    {
      "cell_type": "markdown",
      "metadata": {
        "id": "gkOMstsXYdxl"
      },
      "source": [
        "En cuanto a la palabra indigente, se asocian **drogado, taxista, recluso, agresor, agredido, asaltante, quejoso, trailero y atracador** cuando se vincula a la palabra acaudalada, mientras que cuando se vincula a la palabra acaudalado, aparencen **apuñalamiento, agresor, vicitima, agresora, carbonizados, discapacitada, inconsciente, recluso e hipotermia**."
      ]
    },
    {
      "cell_type": "code",
      "metadata": {
        "colab": {
          "base_uri": "https://localhost:8080/"
        },
        "id": "Vv8W0cexW4bc",
        "outputId": "ea882e0d-cc23-44d0-9354-f2d26e479acc"
      },
      "source": [
        "we_es.most_similar(positive=['acaudalado'],negative=['indigente'])"
      ],
      "execution_count": null,
      "outputs": [
        {
          "output_type": "execute_result",
          "data": {
            "text/plain": [
              "[('acaudalados', 0.48897093534469604),\n",
              " ('acaudalada', 0.4482652544975281),\n",
              " ('terrateniente', 0.3597787022590637),\n",
              " ('adinerado', 0.35317346453666687),\n",
              " ('hacendado', 0.34072500467300415),\n",
              " ('fortunas', 0.3393545150756836),\n",
              " ('adinerados', 0.309868186712265),\n",
              " ('financista', 0.30238133668899536),\n",
              " ('naviero', 0.30177515745162964),\n",
              " ('adinerada', 0.2990885376930237)]"
            ]
          },
          "metadata": {},
          "execution_count": 42
        }
      ]
    },
    {
      "cell_type": "code",
      "metadata": {
        "colab": {
          "base_uri": "https://localhost:8080/"
        },
        "id": "nNdPYPgCZZDZ",
        "outputId": "465fa36f-4fdf-4375-c957-0d6558bdef69"
      },
      "source": [
        "we_es.most_similar(positive=['acaudalada'],negative=['indigente'])"
      ],
      "execution_count": null,
      "outputs": [
        {
          "output_type": "execute_result",
          "data": {
            "text/plain": [
              "[('acaudalados', 0.43915805220603943),\n",
              " ('adinerada', 0.41473388671875),\n",
              " ('aristocrática', 0.4077414870262146),\n",
              " ('acaudalado', 0.3751998543739319),\n",
              " ('aristocráticas', 0.368648499250412),\n",
              " ('aristocracia', 0.3665446639060974),\n",
              " ('adineradas', 0.35384267568588257),\n",
              " ('adinerados', 0.3505280613899231),\n",
              " ('filántropa', 0.34499454498291016),\n",
              " ('acomodada', 0.33715885877609253)]"
            ]
          },
          "metadata": {},
          "execution_count": 50
        }
      ]
    },
    {
      "cell_type": "code",
      "metadata": {
        "colab": {
          "base_uri": "https://localhost:8080/"
        },
        "id": "hXCRJqBxa5Pc",
        "outputId": "5f1187c1-ee1d-4cee-a244-af80cb7eb4cd"
      },
      "source": [
        "we_es.most_similar(positive=['acaudalada'],negative=['indigencia'])"
      ],
      "execution_count": null,
      "outputs": [
        {
          "output_type": "execute_result",
          "data": {
            "text/plain": [
              "[('acaudalado', 0.4657156467437744),\n",
              " ('adinerada', 0.4284781217575073),\n",
              " ('acaudalados', 0.38996511697769165),\n",
              " ('aristócrata', 0.36769217252731323),\n",
              " ('acomodada', 0.36322999000549316),\n",
              " ('aristocrática', 0.36239004135131836),\n",
              " ('adinerado', 0.3571985363960266),\n",
              " ('filántropa', 0.35047632455825806),\n",
              " ('terrateniente', 0.3468703031539917),\n",
              " ('distinguida', 0.3286561667919159)]"
            ]
          },
          "metadata": {},
          "execution_count": 54
        }
      ]
    },
    {
      "cell_type": "code",
      "metadata": {
        "colab": {
          "base_uri": "https://localhost:8080/"
        },
        "id": "YMAF9vPTbGBC",
        "outputId": "5c6ff0eb-d487-4785-a38c-580f18ef9f37"
      },
      "source": [
        "we_es.most_similar(positive=['indigencia'],negative=['acaudalada'])"
      ],
      "execution_count": null,
      "outputs": [
        {
          "output_type": "execute_result",
          "data": {
            "text/plain": [
              "[('pobreza', 0.4200371503829956),\n",
              " ('desnutrición', 0.3839094042778015),\n",
              " ('marginalidad', 0.36428800225257874),\n",
              " ('miseria', 0.3567997217178345),\n",
              " ('desesperanza', 0.3526471257209778),\n",
              " ('hambre', 0.35061115026474),\n",
              " ('precariedad', 0.34893155097961426),\n",
              " ('desamparo', 0.3452332019805908),\n",
              " ('hacinamiento', 0.34123533964157104),\n",
              " ('malnutrición', 0.3393033742904663)]"
            ]
          },
          "metadata": {},
          "execution_count": 56
        }
      ]
    },
    {
      "cell_type": "code",
      "metadata": {
        "colab": {
          "base_uri": "https://localhost:8080/"
        },
        "id": "4hfZRXBxbPj0",
        "outputId": "6906fb30-f286-4ff3-a8fc-ac44e7018323"
      },
      "source": [
        "we_es.most_similar(positive=['acaudalado'],negative=['indigencia'])"
      ],
      "execution_count": null,
      "outputs": [
        {
          "output_type": "execute_result",
          "data": {
            "text/plain": [
              "[('adinerado', 0.45060425996780396),\n",
              " ('acaudalada', 0.4374433159828186),\n",
              " ('acaudalados', 0.41010648012161255),\n",
              " ('hacendado', 0.404211163520813),\n",
              " ('terrateniente', 0.3946188688278198),\n",
              " ('filántropo', 0.3873409628868103),\n",
              " ('comerciante', 0.3856081962585449),\n",
              " ('empresario', 0.3749510645866394),\n",
              " ('magnate', 0.3708599805831909),\n",
              " ('naviero', 0.3700130879878998)]"
            ]
          },
          "metadata": {},
          "execution_count": 57
        }
      ]
    },
    {
      "cell_type": "code",
      "metadata": {
        "colab": {
          "base_uri": "https://localhost:8080/"
        },
        "id": "HlU5EXz4bT9C",
        "outputId": "b6cf5333-575c-43f8-a3b8-b4f29c252429"
      },
      "source": [
        "we_es.most_similar(positive=['indigencia'],negative=['acaudalado'])"
      ],
      "execution_count": null,
      "outputs": [
        {
          "output_type": "execute_result",
          "data": {
            "text/plain": [
              "[('pobreza', 0.45844268798828125),\n",
              " ('marginalidad', 0.39748841524124146),\n",
              " ('desnutrición', 0.3929930031299591),\n",
              " ('extrema', 0.3737005591392517),\n",
              " ('marginación', 0.37164369225502014),\n",
              " ('miseria', 0.36594879627227783),\n",
              " ('malnutrición', 0.36429697275161743),\n",
              " ('hambre', 0.3555822968482971),\n",
              " ('desnutridos', 0.35019123554229736),\n",
              " ('desamparo', 0.34584930539131165)]"
            ]
          },
          "metadata": {},
          "execution_count": 58
        }
      ]
    },
    {
      "cell_type": "markdown",
      "metadata": {
        "id": "vh0aTDbAcZPL"
      },
      "source": [
        "Cuando de analiza la palabra indigencia en vez de indigente, las palabras asociadas no están sesgadas. En cambio, aparecen palabras descriptivas de la situación o de las condiciones que padecen las personas en esa situación. Lo mismo que sucedión con pobre y pobreza. \n",
        "\n",
        "De la misma manera, acudalado/a aparecen asociados a **financista, naviero, terrateniente, distinguida, acomodada, empresario, comerciante y hacendado** en relación a indigencia e indigente."
      ]
    },
    {
      "cell_type": "markdown",
      "metadata": {
        "id": "df4AAXUmkPSd"
      },
      "source": [
        "### 3.b. **Enriquecimiento vs. pobre, pobreza, indigente, indigencia**"
      ]
    },
    {
      "cell_type": "code",
      "metadata": {
        "colab": {
          "base_uri": "https://localhost:8080/"
        },
        "id": "6KHkozeCDcg8",
        "outputId": "c9feff21-1709-482b-e4e9-b81f17ec9248"
      },
      "source": [
        "we_es.most_similar(positive=['pobre'],negative=['enriquecimiento'])"
      ],
      "execution_count": null,
      "outputs": [
        {
          "output_type": "execute_result",
          "data": {
            "text/plain": [
              "[('paupérrima', 0.3801010251045227),\n",
              " ('miserable', 0.3668692409992218),\n",
              " ('desgraciada', 0.36437860131263733),\n",
              " ('mediocre', 0.3617040812969208),\n",
              " ('humilde', 0.3557698428630829),\n",
              " ('fea', 0.35368776321411133),\n",
              " ('infeliz', 0.3513190746307373),\n",
              " ('paupérrimo', 0.34324172139167786),\n",
              " ('indigente', 0.342869371175766),\n",
              " ('pobrecito', 0.3428211808204651)]"
            ]
          },
          "metadata": {},
          "execution_count": 21
        }
      ]
    },
    {
      "cell_type": "code",
      "metadata": {
        "colab": {
          "base_uri": "https://localhost:8080/"
        },
        "id": "2shc4aS8VTzE",
        "outputId": "e47772e2-fd55-4803-ec08-cd5d0a5b91ea"
      },
      "source": [
        "we_es.most_similar(positive=['enriquecimiento'],negative=['pobre'])"
      ],
      "execution_count": null,
      "outputs": [
        {
          "output_type": "execute_result",
          "data": {
            "text/plain": [
              "[('reprocesamiento', 0.3976472020149231),\n",
              " ('centrifugadoras', 0.30950599908828735),\n",
              " ('natanz', 0.30478519201278687),\n",
              " ('reelaboración', 0.29644274711608887),\n",
              " ('ilícito', 0.28068095445632935),\n",
              " ('uf0', 0.27418532967567444),\n",
              " ('enriquecido', 0.2734544277191162),\n",
              " ('peculado', 0.2672046720981598),\n",
              " ('fisibles', 0.2660774886608124),\n",
              " ('oiea', 0.2644801139831543)]"
            ]
          },
          "metadata": {},
          "execution_count": 35
        }
      ]
    },
    {
      "cell_type": "code",
      "metadata": {
        "colab": {
          "base_uri": "https://localhost:8080/"
        },
        "id": "lJVt39rnZ0AU",
        "outputId": "68200d00-64a7-4c62-f1a6-d648acf6a3d4"
      },
      "source": [
        "we_es.most_similar(positive=['enriquecimiento'],negative=['indigente'])"
      ],
      "execution_count": null,
      "outputs": [
        {
          "output_type": "execute_result",
          "data": {
            "text/plain": [
              "[('reprocesamiento', 0.3913732171058655),\n",
              " ('enriquecido', 0.36580565571784973),\n",
              " ('enriquecer', 0.3398727774620056),\n",
              " ('reelaboración', 0.3118135929107666),\n",
              " ('enriquecidas', 0.31008198857307434),\n",
              " ('centrifugadoras', 0.3072305917739868),\n",
              " ('enriqueciendo', 0.3064853549003601),\n",
              " ('enriquecidos', 0.30518192052841187),\n",
              " ('natanz', 0.2956153154373169),\n",
              " ('uranio', 0.2842232882976532)]"
            ]
          },
          "metadata": {},
          "execution_count": 52
        }
      ]
    },
    {
      "cell_type": "code",
      "metadata": {
        "colab": {
          "base_uri": "https://localhost:8080/"
        },
        "id": "HGmbFZG4Z4Nu",
        "outputId": "0daffb55-1bad-4e73-d7aa-0897292a2c4d"
      },
      "source": [
        "we_es.most_similar(positive=['indigente'],negative=['enriquecimiento'])"
      ],
      "execution_count": null,
      "outputs": [
        {
          "output_type": "execute_result",
          "data": {
            "text/plain": [
              "[('indigentes', 0.4662271738052368),\n",
              " ('anciano', 0.42395251989364624),\n",
              " ('anciana', 0.40992993116378784),\n",
              " ('taxista', 0.3872804641723633),\n",
              " ('apuñalada', 0.37574440240859985),\n",
              " ('acuchillado', 0.3670748770236969),\n",
              " ('apuñalado', 0.3655239939689636),\n",
              " ('electrocutado', 0.3629910945892334),\n",
              " ('malherido', 0.3619672954082489),\n",
              " ('joven', 0.3608204424381256)]"
            ]
          },
          "metadata": {},
          "execution_count": 53
        }
      ]
    },
    {
      "cell_type": "markdown",
      "metadata": {
        "id": "Z4CApMT8aPqr"
      },
      "source": [
        "Enriquecimiento pareciera estar asociado a la técnica de enriquecimiento de uranio utilizada en la fisión nuclear. Pero cuando se compara con indigente, se encuentran asociadas las siguientes palabras: **anciano, anciana, taxista, apuñalada, acuhcillado, apuñalado, electrocutado, malherido y joven**. Y cuando se compara con pobre: **fea y mediocre**. Términos que también aparecen asociados a pobre y deberían ser neutros (ya que le suceden a todas las personas más allá de sus ingresos): **infeliz y miserable**.\n",
        "\n",
        "En el caso de la palabra enriquecimiento en relación a pobre, aparece una asociación con la palabra **ilícito**."
      ]
    },
    {
      "cell_type": "code",
      "metadata": {
        "colab": {
          "base_uri": "https://localhost:8080/"
        },
        "id": "b-fVEQ3ybjg2",
        "outputId": "9e618102-8f7b-4aa9-df61-6a0058c6d797"
      },
      "source": [
        "we_es.most_similar(positive=['indigencia'],negative=['enriquecimiento'])"
      ],
      "execution_count": null,
      "outputs": [
        {
          "output_type": "execute_result",
          "data": {
            "text/plain": [
              "[('pobreza', 0.3992752432823181),\n",
              " ('indigentes', 0.38266128301620483),\n",
              " ('miseria', 0.37889763712882996),\n",
              " ('marginalidad', 0.36046797037124634),\n",
              " ('indigente', 0.35703790187835693),\n",
              " ('subempleo', 0.350242018699646),\n",
              " ('desocupación', 0.3287402391433716),\n",
              " ('extrema', 0.32709282636642456),\n",
              " ('orfandad', 0.32384246587753296),\n",
              " ('abyecta', 0.31805193424224854)]"
            ]
          },
          "metadata": {},
          "execution_count": 59
        }
      ]
    },
    {
      "cell_type": "code",
      "metadata": {
        "colab": {
          "base_uri": "https://localhost:8080/"
        },
        "id": "BNFGp_lnmkvf",
        "outputId": "6360f37c-a9e3-4030-a1a7-86e5b4a27b37"
      },
      "source": [
        "we_es.most_similar(positive=['enriquecimiento'],negative=['indigencia'])"
      ],
      "execution_count": null,
      "outputs": [
        {
          "output_type": "execute_result",
          "data": {
            "text/plain": [
              "[('reprocesamiento', 0.3844614624977112),\n",
              " ('enriquecido', 0.3616492748260498),\n",
              " ('natanz', 0.33625659346580505),\n",
              " ('enriquecer', 0.32959938049316406),\n",
              " ('uranio', 0.3069833815097809),\n",
              " ('centrifugadoras', 0.29842662811279297),\n",
              " ('enriquezca', 0.2983752489089966),\n",
              " ('reelaboración', 0.2815307080745697),\n",
              " ('enriqueciendo', 0.26393160223960876),\n",
              " ('irán', 0.2549048364162445)]"
            ]
          },
          "metadata": {},
          "execution_count": 68
        }
      ]
    },
    {
      "cell_type": "code",
      "metadata": {
        "colab": {
          "base_uri": "https://localhost:8080/"
        },
        "id": "zdsVRA2KV-Tb",
        "outputId": "9b56f946-5de8-4fd2-ec08-f98848f92af1"
      },
      "source": [
        "we_es.most_similar(positive=['pobreza'],negative=['enriquecimiento'])"
      ],
      "execution_count": null,
      "outputs": [
        {
          "output_type": "execute_result",
          "data": {
            "text/plain": [
              "[('indigencia', 0.42578181624412537),\n",
              " ('subempleo', 0.3918692469596863),\n",
              " ('analfabetismo', 0.38158679008483887),\n",
              " ('extrema', 0.36988165974617004),\n",
              " ('marginación', 0.36697477102279663),\n",
              " ('subdesarrollo', 0.3557501435279846),\n",
              " ('desigualdad', 0.3432413339614868),\n",
              " ('miseria', 0.33780282735824585),\n",
              " ('feminización', 0.3357251286506653),\n",
              " ('malnutrición', 0.3339993953704834)]"
            ]
          },
          "metadata": {},
          "execution_count": 39
        }
      ]
    },
    {
      "cell_type": "code",
      "metadata": {
        "colab": {
          "base_uri": "https://localhost:8080/"
        },
        "id": "fHNpQyygWEpQ",
        "outputId": "2842baf6-3d27-404f-e9d1-9ec2025df1dc"
      },
      "source": [
        "we_es.most_similar(positive=['enriquecimiento'],negative=['pobreza'])"
      ],
      "execution_count": null,
      "outputs": [
        {
          "output_type": "execute_result",
          "data": {
            "text/plain": [
              "[('enriquecido', 0.3984455168247223),\n",
              " ('reprocesamiento', 0.3485158085823059),\n",
              " ('natanz', 0.32952117919921875),\n",
              " ('enriquecer', 0.3244909644126892),\n",
              " ('reelaboración', 0.3207668662071228),\n",
              " ('centrifugadoras', 0.31101495027542114),\n",
              " ('uranio', 0.2978532910346985),\n",
              " ('enriquezca', 0.28902238607406616),\n",
              " ('enriqueciendo', 0.2798973321914673),\n",
              " ('encubrimiento', 0.2701936960220337)]"
            ]
          },
          "metadata": {},
          "execution_count": 40
        }
      ]
    },
    {
      "cell_type": "markdown",
      "metadata": {
        "id": "cZhejGacmwSy"
      },
      "source": [
        "Finalmente, cuando se comparan las palabras enriquecimiento con pobreza e indigencia, nuevamente enriquecimiento aparece asociado al proceso de enriquecimiento con uranio propio de la fisión nuclear. Aunque también aparece **encubrimiento**. \n",
        "\n",
        "Por otra parte, asociadas a pobreza e indigencia, emergen **orfandad, analfabetismo y feminización**."
      ]
    },
    {
      "cell_type": "markdown",
      "metadata": {
        "id": "Q3qpL9Egmw66"
      },
      "source": [
        "### 3.c. **Riqueza vs. pobre, pobreza, indigente, indigencia**"
      ]
    },
    {
      "cell_type": "code",
      "metadata": {
        "colab": {
          "base_uri": "https://localhost:8080/"
        },
        "id": "tYRlt3USE3x7",
        "outputId": "bc167f64-18fa-431d-ac25-db0f7a5c2e70"
      },
      "source": [
        "we_es.most_similar(positive=['pobre'],negative=['riqueza'])"
      ],
      "execution_count": null,
      "outputs": [
        {
          "output_type": "execute_result",
          "data": {
            "text/plain": [
              "[('indigente', 0.344796359539032),\n",
              " ('miserable', 0.3431952893733978),\n",
              " ('mediocre', 0.3295477628707886),\n",
              " ('pobrecito', 0.31818628311157227),\n",
              " ('paupérrimo', 0.3125506043434143),\n",
              " ('imbécil', 0.3081667423248291),\n",
              " ('cobarde', 0.30748695135116577),\n",
              " ('vagabundo', 0.3063214421272278),\n",
              " ('huérfano', 0.30272385478019714),\n",
              " ('mísero', 0.30238234996795654)]"
            ]
          },
          "metadata": {},
          "execution_count": 30
        }
      ]
    },
    {
      "cell_type": "code",
      "metadata": {
        "colab": {
          "base_uri": "https://localhost:8080/"
        },
        "id": "MpgOMGMeVr2H",
        "outputId": "fc2dbb03-5fa0-442f-c3df-d4f76664b503"
      },
      "source": [
        "we_es.most_similar(positive=['riqueza'],negative=['pobre'])"
      ],
      "execution_count": null,
      "outputs": [
        {
          "output_type": "execute_result",
          "data": {
            "text/plain": [
              "[('riquezas', 0.34523630142211914),\n",
              " ('diversidad', 0.314683735370636),\n",
              " ('potencialidad', 0.28211086988449097),\n",
              " ('patrimonios', 0.2689880132675171),\n",
              " ('paisajística', 0.2664828300476074),\n",
              " ('creatividad', 0.2643258571624756),\n",
              " ('prosperidad', 0.26341676712036133),\n",
              " ('grandiosidad', 0.2614883482456207),\n",
              " ('preservar', 0.2608562707901001),\n",
              " ('florecimiento', 0.26079070568084717)]"
            ]
          },
          "metadata": {},
          "execution_count": 38
        }
      ]
    },
    {
      "cell_type": "markdown",
      "metadata": {
        "id": "4tYcpnj1I-oU"
      },
      "source": [
        "Cuando comparamos riqueza con pobre, aparecen también insultos asociados a pobre: **imbécil, cobarde, mísero**. A la vez, también emergen **vagabundo y huérfano**.\n",
        "\n",
        "Riqueza en comparación a pobre, estaría también asociado a la diversidad biológica y el paisajismo. Y con conceptos de abundancia, grandiosidad, atesorar, inagotable, etc."
      ]
    },
    {
      "cell_type": "code",
      "metadata": {
        "colab": {
          "base_uri": "https://localhost:8080/"
        },
        "id": "lIB6UW6zHXrV",
        "outputId": "7723fe17-8512-4ede-a576-a71c3d9b63ea"
      },
      "source": [
        "we_es.most_similar(positive=['pobreza'],negative=['riqueza'])"
      ],
      "execution_count": null,
      "outputs": [
        {
          "output_type": "execute_result",
          "data": {
            "text/plain": [
              "[('odm', 0.37838077545166016),\n",
              " ('erradicación', 0.3605532646179199),\n",
              " ('malnutrición', 0.3498692214488983),\n",
              " ('delp', 0.34274518489837646),\n",
              " ('sida', 0.3386940360069275),\n",
              " ('vih', 0.33271417021751404),\n",
              " ('tugurios', 0.33061832189559937),\n",
              " ('desnutrición', 0.32204604148864746),\n",
              " ('analfabetismo', 0.3209207057952881),\n",
              " ('indigencia', 0.31727761030197144)]"
            ]
          },
          "metadata": {},
          "execution_count": 31
        }
      ]
    },
    {
      "cell_type": "markdown",
      "metadata": {
        "id": "JAtMYWjqJT0f"
      },
      "source": [
        "En este caso vemos la aparición de **sida y vih** en asociación a la pobreza. También \"odm\" que interpretamos que está vinculado con los Objetivos de Desarrollo del Milenio, uno de éstos es erradicar la pobreza extrema y la indigencia. "
      ]
    },
    {
      "cell_type": "code",
      "metadata": {
        "colab": {
          "base_uri": "https://localhost:8080/"
        },
        "id": "zajFTGs-Jt79",
        "outputId": "72b3b2b5-e0f9-4a35-c277-ab2e96945a0b"
      },
      "source": [
        "we_es.most_similar(positive=['riqueza'],negative=['pobreza'])"
      ],
      "execution_count": null,
      "outputs": [
        {
          "output_type": "execute_result",
          "data": {
            "text/plain": [
              "[('riquísima', 0.40416789054870605),\n",
              " ('riquezas', 0.39793601632118225),\n",
              " ('riquísimo', 0.393608421087265),\n",
              " ('atesora', 0.34449297189712524),\n",
              " ('grandiosidad', 0.3414931893348694),\n",
              " ('atesoran', 0.33521804213523865),\n",
              " ('inagotable', 0.33485114574432373),\n",
              " ('exuberancia', 0.32900771498680115),\n",
              " ('abundancia', 0.32844141125679016),\n",
              " ('exuberante', 0.32618632912635803)]"
            ]
          },
          "metadata": {},
          "execution_count": 34
        }
      ]
    },
    {
      "cell_type": "code",
      "metadata": {
        "colab": {
          "base_uri": "https://localhost:8080/"
        },
        "id": "ZvMhD0tvVM6r",
        "outputId": "bf557813-d825-447e-ffb4-80680afe85c3"
      },
      "source": [
        "we_es.most_similar(positive=['riqueza'],negative=['indigencia'])"
      ],
      "execution_count": null,
      "outputs": [
        {
          "output_type": "execute_result",
          "data": {
            "text/plain": [
              "[('riquezas', 0.38463979959487915),\n",
              " ('diversidad', 0.3300568163394928),\n",
              " ('riquísima', 0.32317429780960083),\n",
              " ('potencialidad', 0.3156735599040985),\n",
              " ('enriquece', 0.30205032229423523),\n",
              " ('grandiosidad', 0.2948441505432129),\n",
              " ('riquísimo', 0.29350292682647705),\n",
              " ('atractivos', 0.29336443543434143),\n",
              " ('ricas', 0.2930712401866913),\n",
              " ('atesoran', 0.29290658235549927)]"
            ]
          },
          "metadata": {},
          "execution_count": 64
        }
      ]
    },
    {
      "cell_type": "code",
      "metadata": {
        "colab": {
          "base_uri": "https://localhost:8080/"
        },
        "id": "NIZa8uNffR1T",
        "outputId": "91ca0670-e23f-497f-bcca-b46c9ec70230"
      },
      "source": [
        "we_es.most_similar(positive=['indigencia'],negative=['riqueza'])"
      ],
      "execution_count": null,
      "outputs": [
        {
          "output_type": "execute_result",
          "data": {
            "text/plain": [
              "[('indigentes', 0.38758763670921326),\n",
              " ('indigente', 0.35202768445014954),\n",
              " ('drogadicción', 0.32052281498908997),\n",
              " ('psiquiátrica', 0.317210853099823),\n",
              " ('maltratadas', 0.308915376663208),\n",
              " ('carcelaria', 0.30218371748924255),\n",
              " ('desamparo', 0.3003208637237549),\n",
              " ('psiquiátricos', 0.29990553855895996),\n",
              " ('suicidio', 0.2974928915500641),\n",
              " ('desnutridos', 0.29642072319984436)]"
            ]
          },
          "metadata": {},
          "execution_count": 65
        }
      ]
    },
    {
      "cell_type": "markdown",
      "metadata": {
        "id": "1wdd1vAgru1S"
      },
      "source": [
        "Indigencia en comparación a riqueza se asocia con sesgos como  **drogadicción, psiquiátrica y psiquiátricos, maltratadas, carcelaria** y con palabras neutras como **desamparo y suicidio**."
      ]
    },
    {
      "cell_type": "code",
      "metadata": {
        "colab": {
          "base_uri": "https://localhost:8080/"
        },
        "id": "nn8o7mFUfYil",
        "outputId": "0b053fad-c5b0-487e-afbd-1d63ebd0791f"
      },
      "source": [
        "we_es.most_similar(positive=['riqueza'],negative=['indigente'])"
      ],
      "execution_count": null,
      "outputs": [
        {
          "output_type": "execute_result",
          "data": {
            "text/plain": [
              "[('riquezas', 0.4331883490085602),\n",
              " ('potencialidad', 0.3509870767593384),\n",
              " ('prosperidad', 0.3447859287261963),\n",
              " ('diversidad', 0.3298843502998352),\n",
              " ('abundancia', 0.31384897232055664),\n",
              " ('riquísima', 0.3129115402698517),\n",
              " ('grandiosidad', 0.3126988708972931),\n",
              " ('poderío', 0.3025891184806824),\n",
              " ('ricas', 0.29460999369621277),\n",
              " ('atesoran', 0.29155582189559937)]"
            ]
          },
          "metadata": {},
          "execution_count": 69
        }
      ]
    },
    {
      "cell_type": "code",
      "metadata": {
        "colab": {
          "base_uri": "https://localhost:8080/"
        },
        "id": "ggYC5wzNnNme",
        "outputId": "8509bea4-fefd-404e-b217-5df3d18cfc36"
      },
      "source": [
        "we_es.most_similar(positive=['indigente'],negative=['riqueza'])"
      ],
      "execution_count": null,
      "outputs": [
        {
          "output_type": "execute_result",
          "data": {
            "text/plain": [
              "[('indigentes', 0.4401378035545349),\n",
              " ('taxista', 0.4241676926612854),\n",
              " ('delincuente', 0.3954547941684723),\n",
              " ('drogadicto', 0.3850708603858948),\n",
              " ('atracador', 0.37748247385025024),\n",
              " ('recluso', 0.3718557357788086),\n",
              " ('victima', 0.37184590101242065),\n",
              " ('agresor', 0.37016189098358154),\n",
              " ('asaltante', 0.36846041679382324),\n",
              " ('apuñalado', 0.36650148034095764)]"
            ]
          },
          "metadata": {},
          "execution_count": 70
        }
      ]
    },
    {
      "cell_type": "markdown",
      "metadata": {
        "id": "Vpc_UqHOsYOE"
      },
      "source": [
        "Finalmente, indigente en relación a riqueza se asocia a **taxista, delincuente, drogadicto, atracador, recluso, victima, agresor, asaltante y apuñalado**, como se evidenció con anteriordad."
      ]
    },
    {
      "cell_type": "markdown",
      "metadata": {
        "id": "aTkgwEMB1_7n"
      },
      "source": [
        "**Síntesis**: mediante una exploración breve, pudimos observar que existen mayores sesgos asociados a las caracterizaciones de las personas (más o menos pudientes) que a la situación socioeconómica en sí misma. Esto se agrava en la medida en que el nivel económico de la persona es más bajo. En este caso, las caracterizaciones más sesgadas las encontramos asociadas a la palabra **indigente**. "
      ]
    },
    {
      "cell_type": "markdown",
      "metadata": {
        "id": "T95rAk7YscT_"
      },
      "source": [
        "#**4. Construcción de un subespacio representativo mediante palabras indicadoras**"
      ]
    },
    {
      "cell_type": "markdown",
      "metadata": {
        "id": "pjhCJ0543o3R"
      },
      "source": [
        "Construimos dos espacios que caracterizaran a personas de muy bajos y de altos ingresos: **espacio_br** y **espacio_ar**. Luego, analizamos cómo están vinculadas con: nacionalidad, identidad política, identidad de género y algunas de las caracterizaciones que detectamos en el análisis anterior que nos llamaron la atención."
      ]
    },
    {
      "cell_type": "code",
      "metadata": {
        "colab": {
          "base_uri": "https://localhost:8080/"
        },
        "id": "9OO8i8Adt5Q-",
        "outputId": "e71348c7-d839-45c8-e150-1a297b1a8ffe"
      },
      "source": [
        "from responsibly.we import BiasWordEmbedding\n",
        "\n",
        "we_es_socioeco = BiasWordEmbedding(we_es, only_lower=True)"
      ],
      "execution_count": null,
      "outputs": [
        {
          "output_type": "stream",
          "name": "stderr",
          "text": [
            "2021-12-05 17:50:20,101 : precomputing L2-norms of word weight vectors\n"
          ]
        }
      ]
    },
    {
      "cell_type": "code",
      "metadata": {
        "id": "xYNIkMrKnRlc"
      },
      "source": [
        "espacio_br = ['indigente', 'indigentes'] #br = personas de muy bajos recursos\n",
        "espacio_ar = ['acaudalado', 'acaudalada', 'riqueza'] #ar = personas con altos recursos\n",
        "\n",
        "we_es_socioeco._identify_direction('Bajos_Recursos', 'Altos_Recursos',\n",
        "                                          definitional=(espacio_br, espacio_ar),\n",
        "                                          method='sum')"
      ],
      "execution_count": null,
      "outputs": []
    },
    {
      "cell_type": "code",
      "metadata": {
        "id": "HTTBd0eIuF-V"
      },
      "source": [
        "socioeco_direction_es = we_es_socioeco.direction\n",
        "\n",
        "socioeco_direction_es /= norm(socioeco_direction_es)"
      ],
      "execution_count": null,
      "outputs": []
    },
    {
      "cell_type": "code",
      "metadata": {
        "colab": {
          "base_uri": "https://localhost:8080/"
        },
        "id": "ZGgbiEhauVFU",
        "outputId": "e7352ac9-a53c-41c2-dc5c-92a8b902a979"
      },
      "source": [
        "socioeco_direction_es @ we_es.word_vec('argentino')"
      ],
      "execution_count": null,
      "outputs": [
        {
          "output_type": "execute_result",
          "data": {
            "text/plain": [
              "-0.035067048"
            ]
          },
          "metadata": {},
          "execution_count": 257
        }
      ]
    },
    {
      "cell_type": "code",
      "metadata": {
        "colab": {
          "base_uri": "https://localhost:8080/"
        },
        "id": "o4yTA1JT7FfZ",
        "outputId": "b2e3cb48-bc8f-4a32-8721-318fd9da7243"
      },
      "source": [
        "socioeco_direction_es @ we_es.word_vec('argentina')"
      ],
      "execution_count": null,
      "outputs": [
        {
          "output_type": "execute_result",
          "data": {
            "text/plain": [
              "-0.09084265"
            ]
          },
          "metadata": {},
          "execution_count": 258
        }
      ]
    },
    {
      "cell_type": "code",
      "metadata": {
        "colab": {
          "base_uri": "https://localhost:8080/"
        },
        "id": "1e6_JjlM6lcm",
        "outputId": "8d19037e-eada-4841-f775-0f5c385fd76c"
      },
      "source": [
        "socioeco_direction_es @ we_es.word_vec('boliviano') #bolivana no esta en el dict"
      ],
      "execution_count": null,
      "outputs": [
        {
          "output_type": "execute_result",
          "data": {
            "text/plain": [
              "-0.07207727"
            ]
          },
          "metadata": {},
          "execution_count": 259
        }
      ]
    },
    {
      "cell_type": "code",
      "metadata": {
        "colab": {
          "base_uri": "https://localhost:8080/"
        },
        "id": "DlhodMrf6oqa",
        "outputId": "06d1a8c4-eae2-4ec9-c563-e66919f7742c"
      },
      "source": [
        "socioeco_direction_es @ we_es.word_vec('paraguayo')"
      ],
      "execution_count": null,
      "outputs": [
        {
          "output_type": "execute_result",
          "data": {
            "text/plain": [
              "0.015289177"
            ]
          },
          "metadata": {},
          "execution_count": 260
        }
      ]
    },
    {
      "cell_type": "code",
      "metadata": {
        "colab": {
          "base_uri": "https://localhost:8080/"
        },
        "id": "PLAckP-x7M_l",
        "outputId": "e7852673-281d-497c-c6e3-2881fecdc81e"
      },
      "source": [
        "socioeco_direction_es @ we_es.word_vec('paraguaya')"
      ],
      "execution_count": null,
      "outputs": [
        {
          "output_type": "execute_result",
          "data": {
            "text/plain": [
              "0.004182421"
            ]
          },
          "metadata": {},
          "execution_count": 261
        }
      ]
    },
    {
      "cell_type": "code",
      "metadata": {
        "colab": {
          "base_uri": "https://localhost:8080/"
        },
        "id": "SSvhfIkK6rSf",
        "outputId": "a668c93e-4029-4027-fcd2-c7cc6c3a6760"
      },
      "source": [
        "socioeco_direction_es @ we_es.word_vec('europeo')"
      ],
      "execution_count": null,
      "outputs": [
        {
          "output_type": "execute_result",
          "data": {
            "text/plain": [
              "-0.021829497"
            ]
          },
          "metadata": {},
          "execution_count": 262
        }
      ]
    },
    {
      "cell_type": "code",
      "metadata": {
        "colab": {
          "base_uri": "https://localhost:8080/"
        },
        "id": "09j5dDzH7Sgr",
        "outputId": "aedbc0a2-32c9-4fc6-814e-c0b3b3321aef"
      },
      "source": [
        "socioeco_direction_es @ we_es.word_vec('europea')"
      ],
      "execution_count": null,
      "outputs": [
        {
          "output_type": "execute_result",
          "data": {
            "text/plain": [
              "-0.10769674"
            ]
          },
          "metadata": {},
          "execution_count": 263
        }
      ]
    },
    {
      "cell_type": "code",
      "metadata": {
        "colab": {
          "base_uri": "https://localhost:8080/"
        },
        "id": "XLXbgk_4wenT",
        "outputId": "dce63db3-2686-4ea8-9d18-35a63991bfd0"
      },
      "source": [
        "socioeco_direction_es @ we_es.word_vec('brasileño')"
      ],
      "execution_count": null,
      "outputs": [
        {
          "output_type": "execute_result",
          "data": {
            "text/plain": [
              "-0.05711723"
            ]
          },
          "metadata": {},
          "execution_count": 264
        }
      ]
    },
    {
      "cell_type": "code",
      "metadata": {
        "colab": {
          "base_uri": "https://localhost:8080/"
        },
        "id": "pR71L-Rb7WHG",
        "outputId": "23b248d5-c957-49c5-8eef-00a853f5e4f4"
      },
      "source": [
        "socioeco_direction_es @ we_es.word_vec('brasileña')"
      ],
      "execution_count": null,
      "outputs": [
        {
          "output_type": "execute_result",
          "data": {
            "text/plain": [
              "-0.07570771"
            ]
          },
          "metadata": {},
          "execution_count": 265
        }
      ]
    },
    {
      "cell_type": "code",
      "metadata": {
        "colab": {
          "base_uri": "https://localhost:8080/"
        },
        "id": "IRGqD1yGuZ0m",
        "outputId": "23eb570b-4cb1-41c8-9f03-fa60e204e5ba"
      },
      "source": [
        "socioeco_direction_es @ we_es.word_vec('chileno')"
      ],
      "execution_count": null,
      "outputs": [
        {
          "output_type": "execute_result",
          "data": {
            "text/plain": [
              "-0.05209959"
            ]
          },
          "metadata": {},
          "execution_count": 266
        }
      ]
    },
    {
      "cell_type": "code",
      "metadata": {
        "colab": {
          "base_uri": "https://localhost:8080/"
        },
        "id": "KegY5XsF7aLb",
        "outputId": "ecb5ed0c-5d8d-4f63-979b-3fdde78c3c0e"
      },
      "source": [
        "socioeco_direction_es @ we_es.word_vec('chilena')"
      ],
      "execution_count": null,
      "outputs": [
        {
          "output_type": "execute_result",
          "data": {
            "text/plain": [
              "-0.06353656"
            ]
          },
          "metadata": {},
          "execution_count": 267
        }
      ]
    },
    {
      "cell_type": "code",
      "metadata": {
        "colab": {
          "base_uri": "https://localhost:8080/"
        },
        "id": "LWEU3_Mk7c-s",
        "outputId": "befc68a7-3f56-4517-d8f9-4005bc081464"
      },
      "source": [
        "socioeco_direction_es @ we_es.word_vec('venezolano')"
      ],
      "execution_count": null,
      "outputs": [
        {
          "output_type": "execute_result",
          "data": {
            "text/plain": [
              "-0.053647682"
            ]
          },
          "metadata": {},
          "execution_count": 268
        }
      ]
    },
    {
      "cell_type": "code",
      "metadata": {
        "colab": {
          "base_uri": "https://localhost:8080/"
        },
        "id": "bNQ4JfwQ7fno",
        "outputId": "03d927db-1a54-4e0f-d83c-32a3f8f42359"
      },
      "source": [
        "socioeco_direction_es @ we_es.word_vec('venezolana')"
      ],
      "execution_count": null,
      "outputs": [
        {
          "output_type": "execute_result",
          "data": {
            "text/plain": [
              "-0.06539046"
            ]
          },
          "metadata": {},
          "execution_count": 269
        }
      ]
    },
    {
      "cell_type": "code",
      "metadata": {
        "colab": {
          "base_uri": "https://localhost:8080/"
        },
        "id": "-BF8Q8xG7CrU",
        "outputId": "8e131a47-ec0a-4ef8-92db-d0158e2e7556"
      },
      "source": [
        "socioeco_direction_es @ we_es.word_vec('peronista')"
      ],
      "execution_count": null,
      "outputs": [
        {
          "output_type": "execute_result",
          "data": {
            "text/plain": [
              "-0.07418318"
            ]
          },
          "metadata": {},
          "execution_count": 270
        }
      ]
    },
    {
      "cell_type": "code",
      "metadata": {
        "colab": {
          "base_uri": "https://localhost:8080/"
        },
        "id": "ntkaSpy37nIn",
        "outputId": "20a3a6dd-fb5a-4eb5-ab16-a86a349b6da0"
      },
      "source": [
        "socioeco_direction_es @ we_es.word_vec('comunista')"
      ],
      "execution_count": null,
      "outputs": [
        {
          "output_type": "execute_result",
          "data": {
            "text/plain": [
              "-0.066676304"
            ]
          },
          "metadata": {},
          "execution_count": 271
        }
      ]
    },
    {
      "cell_type": "code",
      "metadata": {
        "colab": {
          "base_uri": "https://localhost:8080/"
        },
        "id": "E6JwSDr87pTa",
        "outputId": "d80af32c-8de9-4c6f-e7e7-6ac03db3692c"
      },
      "source": [
        "socioeco_direction_es @ we_es.word_vec('capitalista')"
      ],
      "execution_count": null,
      "outputs": [
        {
          "output_type": "execute_result",
          "data": {
            "text/plain": [
              "-0.20013632"
            ]
          },
          "metadata": {},
          "execution_count": 272
        }
      ]
    },
    {
      "cell_type": "code",
      "metadata": {
        "colab": {
          "base_uri": "https://localhost:8080/"
        },
        "id": "nS5MzrrIBCDh",
        "outputId": "8644936e-01ed-4edc-e937-6870db3b0e1e"
      },
      "source": [
        "socioeco_direction_es @ we_es.word_vec('liberal')"
      ],
      "execution_count": null,
      "outputs": [
        {
          "output_type": "execute_result",
          "data": {
            "text/plain": [
              "-0.16256401"
            ]
          },
          "metadata": {},
          "execution_count": 275
        }
      ]
    },
    {
      "cell_type": "code",
      "metadata": {
        "colab": {
          "base_uri": "https://localhost:8080/"
        },
        "id": "Krh1HA8IBHBM",
        "outputId": "38c1d78a-05ff-479b-b667-7efce3166627"
      },
      "source": [
        "socioeco_direction_es @ we_es.word_vec('neoliberal')"
      ],
      "execution_count": null,
      "outputs": [
        {
          "output_type": "execute_result",
          "data": {
            "text/plain": [
              "-0.07480398"
            ]
          },
          "metadata": {},
          "execution_count": 276
        }
      ]
    },
    {
      "cell_type": "code",
      "metadata": {
        "colab": {
          "base_uri": "https://localhost:8080/"
        },
        "id": "ZjH1gciz8dRJ",
        "outputId": "980aa2b2-b00d-4680-a685-6c42b415b9df"
      },
      "source": [
        "socioeco_direction_es @ we_es.word_vec('anarquista')"
      ],
      "execution_count": null,
      "outputs": [
        {
          "output_type": "execute_result",
          "data": {
            "text/plain": [
              "-0.015467749"
            ]
          },
          "metadata": {},
          "execution_count": 277
        }
      ]
    },
    {
      "cell_type": "code",
      "metadata": {
        "colab": {
          "base_uri": "https://localhost:8080/"
        },
        "id": "SQeD1njp7sgc",
        "outputId": "6c32486e-48ff-41ad-d176-012bd018d8d4"
      },
      "source": [
        "socioeco_direction_es @ we_es.word_vec('drogadicto') #drogadica no esta en el dict"
      ],
      "execution_count": null,
      "outputs": [
        {
          "output_type": "execute_result",
          "data": {
            "text/plain": [
              "0.2440408"
            ]
          },
          "metadata": {},
          "execution_count": 278
        }
      ]
    },
    {
      "cell_type": "code",
      "metadata": {
        "colab": {
          "base_uri": "https://localhost:8080/"
        },
        "id": "pI-2q6E5_tjc",
        "outputId": "d99c1106-c017-41f3-ffcc-c0ce2ac5c793"
      },
      "source": [
        "socioeco_direction_es @ we_es.word_vec('drogas')"
      ],
      "execution_count": null,
      "outputs": [
        {
          "output_type": "execute_result",
          "data": {
            "text/plain": [
              "0.07964102"
            ]
          },
          "metadata": {},
          "execution_count": 279
        }
      ]
    },
    {
      "cell_type": "code",
      "metadata": {
        "colab": {
          "base_uri": "https://localhost:8080/"
        },
        "id": "NBI_2xWM_xBW",
        "outputId": "0af9e616-793c-414f-a238-9074a0ef9504"
      },
      "source": [
        "socioeco_direction_es @ we_es.word_vec('cocaína')"
      ],
      "execution_count": null,
      "outputs": [
        {
          "output_type": "execute_result",
          "data": {
            "text/plain": [
              "0.01565733"
            ]
          },
          "metadata": {},
          "execution_count": 280
        }
      ]
    },
    {
      "cell_type": "code",
      "metadata": {
        "colab": {
          "base_uri": "https://localhost:8080/"
        },
        "id": "BfrzhX06_6mT",
        "outputId": "ee3ac440-b8b7-448b-f592-174c7894afc1"
      },
      "source": [
        "socioeco_direction_es @ we_es.word_vec('marihuana')"
      ],
      "execution_count": null,
      "outputs": [
        {
          "output_type": "execute_result",
          "data": {
            "text/plain": [
              "0.08809824"
            ]
          },
          "metadata": {},
          "execution_count": 281
        }
      ]
    },
    {
      "cell_type": "code",
      "metadata": {
        "colab": {
          "base_uri": "https://localhost:8080/"
        },
        "id": "c0fwgFXv7yBL",
        "outputId": "9c22129d-f9cc-41e1-dd79-f571c65ee5b2"
      },
      "source": [
        "socioeco_direction_es @ we_es.word_vec('delincuente')"
      ],
      "execution_count": null,
      "outputs": [
        {
          "output_type": "execute_result",
          "data": {
            "text/plain": [
              "0.24522421"
            ]
          },
          "metadata": {},
          "execution_count": 282
        }
      ]
    },
    {
      "cell_type": "code",
      "metadata": {
        "colab": {
          "base_uri": "https://localhost:8080/"
        },
        "id": "ATHITKsM70JM",
        "outputId": "94254c8b-9cea-4984-c884-fb9c314bcce9"
      },
      "source": [
        "socioeco_direction_es @ we_es.word_vec('terrateniente')"
      ],
      "execution_count": null,
      "outputs": [
        {
          "output_type": "execute_result",
          "data": {
            "text/plain": [
              "-0.36134523"
            ]
          },
          "metadata": {},
          "execution_count": 283
        }
      ]
    },
    {
      "cell_type": "code",
      "metadata": {
        "colab": {
          "base_uri": "https://localhost:8080/"
        },
        "id": "6uv9C_CJ8Le-",
        "outputId": "b1d80789-bd83-4179-d1aa-6bdf97bcae69"
      },
      "source": [
        "socioeco_direction_es @ we_es.word_vec('taxista')"
      ],
      "execution_count": null,
      "outputs": [
        {
          "output_type": "execute_result",
          "data": {
            "text/plain": [
              "0.24729298"
            ]
          },
          "metadata": {},
          "execution_count": 284
        }
      ]
    },
    {
      "cell_type": "code",
      "metadata": {
        "colab": {
          "base_uri": "https://localhost:8080/"
        },
        "id": "XRbbUEG28yzE",
        "outputId": "79182292-1e47-4fd7-a76a-dbe54eeca546"
      },
      "source": [
        "socioeco_direction_es @ we_es.word_vec('comerciante')"
      ],
      "execution_count": null,
      "outputs": [
        {
          "output_type": "execute_result",
          "data": {
            "text/plain": [
              "-0.14789382"
            ]
          },
          "metadata": {},
          "execution_count": 285
        }
      ]
    },
    {
      "cell_type": "code",
      "metadata": {
        "colab": {
          "base_uri": "https://localhost:8080/"
        },
        "id": "olTBx5XJ8nmc",
        "outputId": "9bfd274e-b220-418b-bd8d-99fe6918dddd"
      },
      "source": [
        "socioeco_direction_es @ we_es.word_vec('recluso')"
      ],
      "execution_count": null,
      "outputs": [
        {
          "output_type": "execute_result",
          "data": {
            "text/plain": [
              "0.28057697"
            ]
          },
          "metadata": {},
          "execution_count": 286
        }
      ]
    },
    {
      "cell_type": "code",
      "metadata": {
        "colab": {
          "base_uri": "https://localhost:8080/"
        },
        "id": "3JUxkKXSGxUG",
        "outputId": "1fcfe47c-b3e5-45e9-e195-d7f2af473b1b"
      },
      "source": [
        "socioeco_direction_es @ we_es.word_vec('reclusa')"
      ],
      "execution_count": null,
      "outputs": [
        {
          "output_type": "execute_result",
          "data": {
            "text/plain": [
              "0.18310723"
            ]
          },
          "metadata": {},
          "execution_count": 309
        }
      ]
    },
    {
      "cell_type": "code",
      "metadata": {
        "colab": {
          "base_uri": "https://localhost:8080/"
        },
        "id": "Zi3Ciiq18_hE",
        "outputId": "86e910b9-343e-41e6-e2f0-2fdeedf6de24"
      },
      "source": [
        "socioeco_direction_es @ we_es.word_vec('agresor')"
      ],
      "execution_count": null,
      "outputs": [
        {
          "output_type": "execute_result",
          "data": {
            "text/plain": [
              "0.24423501"
            ]
          },
          "metadata": {},
          "execution_count": 287
        }
      ]
    },
    {
      "cell_type": "code",
      "metadata": {
        "colab": {
          "base_uri": "https://localhost:8080/"
        },
        "id": "p_G4rBprG8XY",
        "outputId": "fe3ace01-9c96-41e6-f0dd-3190a3f762b7"
      },
      "source": [
        "socioeco_direction_es @ we_es.word_vec('agresora')"
      ],
      "execution_count": null,
      "outputs": [
        {
          "output_type": "execute_result",
          "data": {
            "text/plain": [
              "0.18566307"
            ]
          },
          "metadata": {},
          "execution_count": 311
        }
      ]
    },
    {
      "cell_type": "code",
      "metadata": {
        "colab": {
          "base_uri": "https://localhost:8080/"
        },
        "id": "BLWwJgp_9BVD",
        "outputId": "c3087dd0-8e87-4df8-beba-1bfe8d330ae3"
      },
      "source": [
        "socioeco_direction_es @ we_es.word_vec('asaltante')"
      ],
      "execution_count": null,
      "outputs": [
        {
          "output_type": "execute_result",
          "data": {
            "text/plain": [
              "0.2067188"
            ]
          },
          "metadata": {},
          "execution_count": 288
        }
      ]
    },
    {
      "cell_type": "code",
      "metadata": {
        "colab": {
          "base_uri": "https://localhost:8080/"
        },
        "id": "AckAT6czB1hb",
        "outputId": "812c2ff2-6763-43eb-c766-373d190fee17"
      },
      "source": [
        "socioeco_direction_es @ we_es.word_vec('asesino')"
      ],
      "execution_count": null,
      "outputs": [
        {
          "output_type": "execute_result",
          "data": {
            "text/plain": [
              "0.16582425"
            ]
          },
          "metadata": {},
          "execution_count": 302
        }
      ]
    },
    {
      "cell_type": "code",
      "metadata": {
        "colab": {
          "base_uri": "https://localhost:8080/"
        },
        "id": "dKK3ajuIG4he",
        "outputId": "a562af42-33b9-4e1c-c1bd-16fb66f29435"
      },
      "source": [
        "socioeco_direction_es @ we_es.word_vec('asesina')"
      ],
      "execution_count": null,
      "outputs": [
        {
          "output_type": "execute_result",
          "data": {
            "text/plain": [
              "0.068660736"
            ]
          },
          "metadata": {},
          "execution_count": 310
        }
      ]
    },
    {
      "cell_type": "code",
      "metadata": {
        "colab": {
          "base_uri": "https://localhost:8080/"
        },
        "id": "2gOL6ZigAT4N",
        "outputId": "0d9ee2c0-0918-4b4d-cbf6-ab094d0ddeb2"
      },
      "source": [
        "socioeco_direction_es @ we_es.word_vec('atracador') #atracadora not in dict"
      ],
      "execution_count": null,
      "outputs": [
        {
          "output_type": "execute_result",
          "data": {
            "text/plain": [
              "0.20618965"
            ]
          },
          "metadata": {},
          "execution_count": 289
        }
      ]
    },
    {
      "cell_type": "code",
      "metadata": {
        "colab": {
          "base_uri": "https://localhost:8080/"
        },
        "id": "AOLJ-0C2722q",
        "outputId": "a1b985b4-1e70-45cc-85c4-346ba36e15ae"
      },
      "source": [
        "socioeco_direction_es @ we_es.word_vec('sida')"
      ],
      "execution_count": null,
      "outputs": [
        {
          "output_type": "execute_result",
          "data": {
            "text/plain": [
              "0.081187375"
            ]
          },
          "metadata": {},
          "execution_count": 291
        }
      ]
    },
    {
      "cell_type": "code",
      "metadata": {
        "colab": {
          "base_uri": "https://localhost:8080/"
        },
        "id": "l8TH5PyU8H7Y",
        "outputId": "0b7e7d08-e6d5-49d4-f644-d8c2756c6a40"
      },
      "source": [
        "socioeco_direction_es @ we_es.word_vec('vih')"
      ],
      "execution_count": null,
      "outputs": [
        {
          "output_type": "execute_result",
          "data": {
            "text/plain": [
              "0.050821677"
            ]
          },
          "metadata": {},
          "execution_count": 292
        }
      ]
    },
    {
      "cell_type": "code",
      "metadata": {
        "colab": {
          "base_uri": "https://localhost:8080/"
        },
        "id": "Rpo1WS5-_DBD",
        "outputId": "32697047-111b-4773-b584-df1b5b53be46"
      },
      "source": [
        "socioeco_direction_es @ we_es.word_vec('violento')"
      ],
      "execution_count": null,
      "outputs": [
        {
          "output_type": "execute_result",
          "data": {
            "text/plain": [
              "0.11907152"
            ]
          },
          "metadata": {},
          "execution_count": 293
        }
      ]
    },
    {
      "cell_type": "code",
      "metadata": {
        "colab": {
          "base_uri": "https://localhost:8080/"
        },
        "id": "8UfEs70cHShY",
        "outputId": "c31a4e78-dbeb-4419-87b5-607f35d1e1e7"
      },
      "source": [
        "socioeco_direction_es @ we_es.word_vec('violenta')"
      ],
      "execution_count": null,
      "outputs": [
        {
          "output_type": "execute_result",
          "data": {
            "text/plain": [
              "0.067536965"
            ]
          },
          "metadata": {},
          "execution_count": 312
        }
      ]
    },
    {
      "cell_type": "code",
      "metadata": {
        "colab": {
          "base_uri": "https://localhost:8080/"
        },
        "id": "EVZ_uhzwBjai",
        "outputId": "d98c03c8-cbc6-4df9-c621-57c03f91069a"
      },
      "source": [
        "socioeco_direction_es @ we_es.word_vec('travesti')"
      ],
      "execution_count": null,
      "outputs": [
        {
          "output_type": "execute_result",
          "data": {
            "text/plain": [
              "0.12269979"
            ]
          },
          "metadata": {},
          "execution_count": 303
        }
      ]
    },
    {
      "cell_type": "code",
      "metadata": {
        "colab": {
          "base_uri": "https://localhost:8080/"
        },
        "id": "royoKfOzEzmJ",
        "outputId": "4a8a5762-fa4b-4660-e57b-26018ae86386"
      },
      "source": [
        "socioeco_direction_es @ we_es.word_vec('gay')"
      ],
      "execution_count": null,
      "outputs": [
        {
          "output_type": "execute_result",
          "data": {
            "text/plain": [
              "0.05537904"
            ]
          },
          "metadata": {},
          "execution_count": 305
        }
      ]
    },
    {
      "cell_type": "code",
      "metadata": {
        "colab": {
          "base_uri": "https://localhost:8080/"
        },
        "id": "Ad2sgV4ZE15Y",
        "outputId": "4a3c438b-65b3-46ab-d9be-2b700526d567"
      },
      "source": [
        "socioeco_direction_es @ we_es.word_vec('lesbiana')"
      ],
      "execution_count": null,
      "outputs": [
        {
          "output_type": "execute_result",
          "data": {
            "text/plain": [
              "0.030391691"
            ]
          },
          "metadata": {},
          "execution_count": 306
        }
      ]
    },
    {
      "cell_type": "code",
      "metadata": {
        "colab": {
          "base_uri": "https://localhost:8080/"
        },
        "id": "6YdEGpucElHy",
        "outputId": "0b6b2d9f-fee3-4b78-f1c6-dc7fc113ce4c"
      },
      "source": [
        "socioeco_direction_es @ we_es.word_vec('homosexual')"
      ],
      "execution_count": null,
      "outputs": [
        {
          "output_type": "execute_result",
          "data": {
            "text/plain": [
              "0.065530114"
            ]
          },
          "metadata": {},
          "execution_count": 304
        }
      ]
    },
    {
      "cell_type": "code",
      "metadata": {
        "colab": {
          "base_uri": "https://localhost:8080/"
        },
        "id": "VqQYKoKPFFv6",
        "outputId": "b6c0be46-73ee-45a2-ac73-ad63426f1b73"
      },
      "source": [
        "socioeco_direction_es @ we_es.word_vec('heterosexual')"
      ],
      "execution_count": null,
      "outputs": [
        {
          "output_type": "execute_result",
          "data": {
            "text/plain": [
              "0.004154362"
            ]
          },
          "metadata": {},
          "execution_count": 307
        }
      ]
    },
    {
      "cell_type": "code",
      "metadata": {
        "colab": {
          "base_uri": "https://localhost:8080/"
        },
        "id": "kF_zh-bfJt_v",
        "outputId": "328482b2-c30b-49ab-d3ae-ff5b3def9d11"
      },
      "source": [
        "socioeco_direction_es @ we_es.word_vec('acomodada')"
      ],
      "execution_count": null,
      "outputs": [
        {
          "output_type": "execute_result",
          "data": {
            "text/plain": [
              "-0.28521428"
            ]
          },
          "metadata": {},
          "execution_count": 316
        }
      ]
    },
    {
      "cell_type": "code",
      "metadata": {
        "colab": {
          "base_uri": "https://localhost:8080/"
        },
        "id": "6nkJm3NSJyNy",
        "outputId": "4940fef3-1b3d-475c-fe54-0d800907d706"
      },
      "source": [
        "socioeco_direction_es @ we_es.word_vec('acomodado')"
      ],
      "execution_count": null,
      "outputs": [
        {
          "output_type": "execute_result",
          "data": {
            "text/plain": [
              "-0.16032007"
            ]
          },
          "metadata": {},
          "execution_count": 317
        }
      ]
    },
    {
      "cell_type": "code",
      "metadata": {
        "colab": {
          "base_uri": "https://localhost:8080/"
        },
        "id": "CtK5U5tvJ3Iy",
        "outputId": "d1da4e7e-d833-45e3-94b8-1bc2c0eda055"
      },
      "source": [
        "socioeco_direction_es @ we_es.word_vec('ilícito')"
      ],
      "execution_count": null,
      "outputs": [
        {
          "output_type": "execute_result",
          "data": {
            "text/plain": [
              "-0.056368053"
            ]
          },
          "metadata": {},
          "execution_count": 318
        }
      ]
    },
    {
      "cell_type": "markdown",
      "metadata": {
        "id": "3glK6U7vBZt-"
      },
      "source": [
        "**Síntesis**: No pudimos observar un sesgo marcado en cuanto a nacionalidad o identidad política, excepto en el caso de capitalista y liberal, que tienen un sesgo marcado hacia las personas acaudaladas. Sí, por otra parte, encontramos un sesgo marcado en relación a la asociación entre personas indigentes y delincuencia, consumo de drogas y actos de violencia e insultos. Si bien existe, la asociación entre SIDA/VIH no resultó tan marcada en relación a las personas indigentes. Finalmente, se registró un sesgo en cuanto a la asociación de personas en situación de indigencia y hacia las travestis. \n",
        "\n",
        "Cabe destacar que los actos de violencia y delincuencia estuvieron mayormente asociados a palabras masculinas que a femeninas. En cambio, el"
      ]
    },
    {
      "cell_type": "markdown",
      "metadata": {
        "id": "9yEiZ-91D3f2"
      },
      "source": [
        "#**5. Medición directa del sesgo**"
      ]
    },
    {
      "cell_type": "markdown",
      "metadata": {
        "id": "zuqSxnHSFxm3"
      },
      "source": [
        "Como creemos que los actos de delincuencia, violencia y género no son son determinados por los ingresos, definimos una lista de palabras neutras en relación a estos aspectos."
      ]
    },
    {
      "cell_type": "code",
      "metadata": {
        "id": "RaJj1uGvFu9z"
      },
      "source": [
        "palabras_neutras = [\n",
        "    'delincuente',\n",
        "    'atracador',\n",
        "    'travesti',\n",
        "    'recluso',\n",
        "    'agresor',\n",
        "    'agresora',\n",
        "    'asesino',\n",
        "    'asesina',\n",
        "    'violento',\n",
        "    'violenta',\n",
        "    'asaltante',\n",
        "    'recluso',\n",
        "    'reclusa',\n",
        "    'drogadicto',\n",
        "    'drogadicción',\n",
        "    'psiquiátrica',\n",
        "    'psiquiátrico',\n",
        "    'acomodada',\n",
        "    'acomodado',\n",
        "    'apuñalamiento',\n",
        "    'carbonizado',\n",
        "    'discapacitada',\n",
        "    'suicidio',\n",
        "    'acuchillado',\n",
        "    'electrocutado',\n",
        "    'apuñalado',\n",
        "    'ilícito',\n",
        "    'carcelaria',\n",
        "    'infeliz',\n",
        "    'miserable',\n",
        "    'fea',\n",
        "    'mediocre',\n",
        "    'comerciante',\n",
        "    'naviero',\n",
        "    'taxista' #me llama mucho la atencion taxista...\n",
        "]"
      ],
      "execution_count": null,
      "outputs": []
    },
    {
      "cell_type": "code",
      "metadata": {
        "colab": {
          "base_uri": "https://localhost:8080/",
          "height": 621
        },
        "id": "sRaCjSvfI8sh",
        "outputId": "6e724682-d87b-4c6a-d07d-c9e74652c73b"
      },
      "source": [
        "import matplotlib.pylab as plt\n",
        "\n",
        "f, ax = plt.subplots(1, figsize=(10, 10))\n",
        "\n",
        "we_es_socioeco.plot_projection_scores(\n",
        "    palabras_neutras + espacio_br[:1] + espacio_ar[:1],\n",
        "    n_extreme=20,\n",
        "    ax=ax);"
      ],
      "execution_count": null,
      "outputs": [
        {
          "output_type": "display_data",
          "data": {
            "image/png": "[encoded data removed]",
            "text/plain": [
              "<Figure size 720x720 with 1 Axes>"
            ]
          },
          "metadata": {
            "needs_background": "light"
          }
        }
      ]
    },
    {
      "cell_type": "code",
      "metadata": {
        "id": "PFEBkyu3L_oG"
      },
      "source": [
        "sesgo1 = we_es_socioeco.calc_direct_bias(palabras_neutras, c=None)"
      ],
      "execution_count": null,
      "outputs": []
    },
    {
      "cell_type": "markdown",
      "metadata": {
        "id": "CnKgZZYZMSYI"
      },
      "source": [
        "#**6. Mitigación del sesgo**"
      ]
    },
    {
      "cell_type": "markdown",
      "metadata": {
        "id": "df7Vd2siNWwR"
      },
      "source": [
        "Primero, vamos a mitigar el sesgo de las palabras evaluadas:"
      ]
    },
    {
      "cell_type": "code",
      "metadata": {
        "colab": {
          "base_uri": "https://localhost:8080/"
        },
        "id": "gN4nt0JlMKgB",
        "outputId": "8c4cffee-158d-4d36-986d-301c2c6d606d"
      },
      "source": [
        "len(palabras_neutras)"
      ],
      "execution_count": null,
      "outputs": [
        {
          "output_type": "execute_result",
          "data": {
            "text/plain": [
              "35"
            ]
          },
          "metadata": {},
          "execution_count": 324
        }
      ]
    },
    {
      "cell_type": "code",
      "metadata": {
        "colab": {
          "base_uri": "https://localhost:8080/"
        },
        "id": "YcfQyTpXMgof",
        "outputId": "5cd136b2-b461-48ae-e501-5120bd4fad2d"
      },
      "source": [
        "we_es_socioeco_debias = we_es_socioeco.debias(method = 'neutralize' , neutral_words= palabras_neutras, inplace=False)"
      ],
      "execution_count": null,
      "outputs": [
        {
          "output_type": "stream",
          "name": "stderr",
          "text": [
            "2021-12-05 20:07:20,500 : precomputing L2-norms of word weight vectors\n",
            "2021-12-05 20:07:22,173 : precomputing L2-norms of word weight vectors\n"
          ]
        }
      ]
    },
    {
      "cell_type": "code",
      "metadata": {
        "colab": {
          "base_uri": "https://localhost:8080/"
        },
        "id": "Dc4QhCdnNgRk",
        "outputId": "ab748763-998d-45d5-92bc-0b02ef9a6aa8"
      },
      "source": [
        "sesgo2 = we_es_socioeco_debias.calc_direct_bias(palabras_neutras, c=None)\n",
        "\n",
        "print('El sesgo sin mitigar era de', sesgo1, 'mientas que aplicando una mitigacion desciende a', sesgo2)\n",
        "print('Obtuvimos una enorme diferencia de', sesgo1-sesgo2)"
      ],
      "execution_count": null,
      "outputs": [
        {
          "output_type": "stream",
          "name": "stdout",
          "text": [
            "El sesgo sin mitigar era de 0.1783627834437149 mientas que aplicando una mitigacion desciende a 2.7223306478926394e-08\n",
            "Obtuvimos una enorme diferencia de 0.17836275622040842\n"
          ]
        }
      ]
    },
    {
      "cell_type": "code",
      "metadata": {
        "colab": {
          "base_uri": "https://localhost:8080/",
          "height": 621
        },
        "id": "3J9g8T2-OSIT",
        "outputId": "cba0aa57-138a-49e9-944d-5804cfe55c8c"
      },
      "source": [
        "f, ax = plt.subplots(1, figsize=(10, 10))\n",
        "\n",
        "we_es_socioeco_debias.plot_projection_scores(\n",
        "    palabras_neutras + espacio_br[:1] + espacio_ar[:1],\n",
        "    n_extreme=20,\n",
        "    ax=ax);"
      ],
      "execution_count": null,
      "outputs": [
        {
          "output_type": "display_data",
          "data": {
            "image/png": "[encoded data removed]",
            "text/plain": [
              "<Figure size 720x720 with 1 Axes>"
            ]
          },
          "metadata": {
            "needs_background": "light"
          }
        }
      ]
    },
    {
      "cell_type": "markdown",
      "metadata": {
        "id": "eiMt39kDO3pD"
      },
      "source": [
        "### 6.a. **Inclusión de categorías gramaticales (más allá de nuestra lista de palabras neutras)**"
      ]
    },
    {
      "cell_type": "code",
      "metadata": {
        "id": "NYSB_P4EPMYe"
      },
      "source": [
        "verbos = [ \n",
        "          'comprar',\n",
        "          'vender',\n",
        "          'dormir',\n",
        "          'despertar',\n",
        "          'soñar',\n",
        "          'llorar',\n",
        "          'gritar',\n",
        "          'hablar',\n",
        "          'preguntar',\n",
        "          'pensar',\n",
        "          'inventar',\n",
        "          'bailar',\n",
        "          'cantar',\n",
        "          'cocinar',\n",
        "          'sentir',\n",
        "          'bordar',\n",
        "          'tejer',\n",
        "          'coser',\n",
        "          'razonar',\n",
        "          'argumentar',\n",
        "          'cursar',\n",
        "          'programar'\n",
        "]"
      ],
      "execution_count": null,
      "outputs": []
    },
    {
      "cell_type": "code",
      "metadata": {
        "colab": {
          "base_uri": "https://localhost:8080/",
          "height": 621
        },
        "id": "6oa6SQH_PWrm",
        "outputId": "a138a8ad-fb0a-4b4c-e17f-d0474df86251"
      },
      "source": [
        "f, ax = plt.subplots(1, figsize=(10, 10))\n",
        "\n",
        "we_es_socioeco.plot_projection_scores(\n",
        "    verbos + ['indigente'] + ['riqueza'],\n",
        "    n_extreme=20,\n",
        "    ax=ax);"
      ],
      "execution_count": null,
      "outputs": [
        {
          "output_type": "display_data",
          "data": {
            "image/png": "[encoded data removed]",
            "text/plain": [
              "<Figure size 720x720 with 1 Axes>"
            ]
          },
          "metadata": {
            "needs_background": "light"
          }
        }
      ]
    },
    {
      "cell_type": "markdown",
      "metadata": {
        "id": "7SuYVc7DP-lK"
      },
      "source": [
        "¿Existen verbos asociados a ser indigente y a la riqueza? Vemos que sí, que acciones como dormir, llorar o gritar están asociados a las personas indigentes. En cambio, acciones como soñar, vender, inventar, hablar, despertar e incluso sentri, están más asociadas a la riqueza.  "
      ]
    },
    {
      "cell_type": "code",
      "metadata": {
        "id": "xleQF4t4PrhO"
      },
      "source": [
        "profesiones_colectivos = [\n",
        "'ingeniería',\n",
        "'arquitectura',\n",
        "'psicología',\n",
        "'enfermería',\n",
        "'medicina',\n",
        "'carpintería',\n",
        "'presidencia',\n",
        "'biología',\n",
        "'cocina',\n",
        "'docencia',\n",
        "'abogacía',\n",
        "'cirugía',\n",
        "'neurocirugía',\n",
        "'actuación',\n",
        "'música',\n",
        "'canto'\n",
        "]"
      ],
      "execution_count": null,
      "outputs": []
    },
    {
      "cell_type": "code",
      "metadata": {
        "colab": {
          "base_uri": "https://localhost:8080/",
          "height": 621
        },
        "id": "4uQwjeKnP2Gh",
        "outputId": "881a8069-5339-4c49-ff73-3d8f411026ac"
      },
      "source": [
        "f, ax = plt.subplots(1, figsize=(10, 10))\n",
        "\n",
        "we_es_socioeco.plot_projection_scores(\n",
        "    profesiones_colectivos + ['indigente'] + ['riqueza'],\n",
        "    n_extreme=20,\n",
        "    ax=ax);"
      ],
      "execution_count": null,
      "outputs": [
        {
          "output_type": "display_data",
          "data": {
            "image/png": "[encoded data removed]",
            "text/plain": [
              "<Figure size 720x720 with 1 Axes>"
            ]
          },
          "metadata": {
            "needs_background": "light"
          }
        }
      ]
    },
    {
      "cell_type": "markdown",
      "metadata": {
        "id": "Kc52S9E6QX4l"
      },
      "source": [
        "¿Existen profesiones asociadas a ser indigente y a la riqueza? Vemos que también sí. Sin embargo, en este caso se piensa que estarían indicando aquellas profesiones que mayor contacto pueden tener con pacientes indigentes (enfermería, cirugía y neurocirugía). En cuanto a la actuación, se estima que se trataría de actores/actrices que representan estos roles. Las profesiones asociadas a personas más pudientes incluyen la música, la presidencia, docencia, biología, ingeniería y arquitectura.  "
      ]
    },
    {
      "cell_type": "code",
      "metadata": {
        "id": "K3rAaeQpP6Nq"
      },
      "source": [
        "sustantivos_abstractos = [\n",
        "'inteligencia',\n",
        "'belleza',\n",
        "'humildad',\n",
        "'sabiduría',\n",
        "'poder',\n",
        "'cariño',\n",
        "'bondad',\n",
        "'ambición',\n",
        "'delicadeza',\n",
        "'amabilidad',\n",
        "'paciencia',\n",
        "'popularidad',\n",
        "'fama',\n",
        "'generosidad',\n",
        "'honestidad',\n",
        "'canto',\n",
        "'maldad',\n",
        "'soberbia',\n",
        "'violencia'\n",
        "]"
      ],
      "execution_count": null,
      "outputs": []
    },
    {
      "cell_type": "code",
      "metadata": {
        "colab": {
          "base_uri": "https://localhost:8080/",
          "height": 621
        },
        "id": "tyRnbxmHRwh9",
        "outputId": "6c4c63bd-c87a-455e-a445-1f153d225c61"
      },
      "source": [
        "f, ax = plt.subplots(1, figsize=(10, 10))\n",
        "\n",
        "we_es_socioeco.plot_projection_scores(\n",
        "    sustantivos_abstractos + ['indigente'] + ['riqueza'],\n",
        "    n_extreme=20,\n",
        "    ax=ax);"
      ],
      "execution_count": null,
      "outputs": [
        {
          "output_type": "display_data",
          "data": {
            "image/png": "[encoded data removed]",
            "text/plain": [
              "<Figure size 720x720 with 1 Axes>"
            ]
          },
          "metadata": {
            "needs_background": "light"
          }
        }
      ]
    },
    {
      "cell_type": "markdown",
      "metadata": {
        "id": "b8E6BpTTR64B"
      },
      "source": [
        "Interesante. El único sustiantivo que se asocia con la indigencia es la violencia. "
      ]
    },
    {
      "cell_type": "code",
      "metadata": {
        "id": "bgh8QwPQR1Yx"
      },
      "source": [
        "adjetivos_neutros = [\n",
        "'inteligente',\n",
        "'humilde',\n",
        "'amable',\n",
        "'dulce',\n",
        "'audaz',\n",
        "'paciente',\n",
        "'popular',\n",
        "'flexible',\n",
        "'grande',\n",
        "'brillante',\n",
        "'inocente',\n",
        "'fácil',\n",
        "'agradable',\n",
        "'infeliz',\n",
        "'capaz',\n",
        "'difícil',\n",
        "'temperamental',\n",
        "]"
      ],
      "execution_count": null,
      "outputs": []
    },
    {
      "cell_type": "code",
      "metadata": {
        "colab": {
          "base_uri": "https://localhost:8080/",
          "height": 621
        },
        "id": "CCW1d7aiSNpC",
        "outputId": "3e59b433-2d53-45ab-f4ca-f56184c10929"
      },
      "source": [
        "f, ax = plt.subplots(1, figsize=(10, 10))\n",
        "\n",
        "we_es_socioeco.plot_projection_scores(\n",
        "    adjetivos_neutros + ['indigente'] + ['riqueza'],\n",
        "    n_extreme=20,\n",
        "    ax=ax);"
      ],
      "execution_count": null,
      "outputs": [
        {
          "output_type": "display_data",
          "data": {
            "image/png": "[encoded data removed]",
            "text/plain": [
              "<Figure size 720x720 with 1 Axes>"
            ]
          },
          "metadata": {
            "needs_background": "light"
          }
        }
      ]
    },
    {
      "cell_type": "markdown",
      "metadata": {
        "id": "YHJFi-83SWk5"
      },
      "source": [
        "Ser paciente, inocente y flexible están asociados a las personas indigentes. Por otra parte, audaz, grande, brillante, inteligente, amable y dulce están asociados a la riqueza. Como neutros quedaron difícil y fácil. "
      ]
    },
    {
      "cell_type": "markdown",
      "metadata": {
        "id": "QoYHSnUST32l"
      },
      "source": [
        "#**7. Ecualización**"
      ]
    },
    {
      "cell_type": "markdown",
      "metadata": {
        "id": "5GuB6A9zZqrX"
      },
      "source": [
        "Finalmente, debemos ecualizar, es decir poner a la misma distancia todas las palabras que consideramos neutras en relación pares de simetría. En nuestro caso, construimos los siguientes pares:"
      ]
    },
    {
      "cell_type": "code",
      "metadata": {
        "id": "FajYOeJ-SR7R"
      },
      "source": [
        "palabras_simetricas = [\n",
        "                       ['pobreza', 'riqueza'],\n",
        "                       ['indigente', 'acaudalado'],\n",
        "                       ['pobre', 'pudiente'],\n",
        "                       ['escasez', 'abundancia'],\n",
        "                       ['opulencia', 'miseria'],\n",
        "                       ['indigencia', 'fortuna']\n",
        "]"
      ],
      "execution_count": null,
      "outputs": []
    },
    {
      "cell_type": "code",
      "metadata": {
        "id": "CwTutTQrb_Ty"
      },
      "source": [
        "neutras = adjetivos_neutros + sustantivos_abstractos + profesiones_colectivos"
      ],
      "execution_count": null,
      "outputs": []
    },
    {
      "cell_type": "code",
      "metadata": {
        "colab": {
          "base_uri": "https://localhost:8080/"
        },
        "id": "NWyJhNuicVDg",
        "outputId": "213e827f-9105-4c61-8438-c2936cf5a177"
      },
      "source": [
        "we_es_socioeco_hard_debias = we_es_socioeco.debias(method='hard',\n",
        "                                               neutral_words=neutras, \n",
        "                                               equality_sets=palabras_simetricas,inplace=False)"
      ],
      "execution_count": null,
      "outputs": [
        {
          "output_type": "stream",
          "name": "stderr",
          "text": [
            "2021-12-05 21:13:36,362 : precomputing L2-norms of word weight vectors\n",
            "2021-12-05 21:13:37,943 : precomputing L2-norms of word weight vectors\n",
            "2021-12-05 21:13:38,042 : precomputing L2-norms of word weight vectors\n"
          ]
        }
      ]
    },
    {
      "cell_type": "markdown",
      "metadata": {
        "id": "hxqjlac9c3JD"
      },
      "source": [
        "##7.a. **Profesiones colectivos**"
      ]
    },
    {
      "cell_type": "markdown",
      "metadata": {
        "id": "xLYUR2fPeTsj"
      },
      "source": [
        "Vamos a ecualizar todas aquellas profesiones que se encontraban sesgadas en relación nuestra variable de estudio y consideramos neutras."
      ]
    },
    {
      "cell_type": "code",
      "metadata": {
        "colab": {
          "base_uri": "https://localhost:8080/"
        },
        "id": "-IkNwcqXcrXP",
        "outputId": "c0533655-9654-4f4b-d362-5580496df115"
      },
      "source": [
        "we_es_socioeco_hard_debias[['arquitectura', 'ingeniería', 'biología', 'docencia', 'enfermería', 'cirugía', 'actuación', 'neurocirugía',\n",
        "                            'cocina', 'carpintería', 'canto', 'música', 'presidencia' ]] @ socioeco_direction_es"
      ],
      "execution_count": null,
      "outputs": [
        {
          "output_type": "execute_result",
          "data": {
            "text/plain": [
              "array([ 3.7252903e-08,  4.6566129e-08,  1.8626451e-09,  2.1653250e-08,\n",
              "       -1.1175871e-08, -4.6566129e-09,  3.7252903e-09, -6.5192580e-09,\n",
              "        7.4505806e-09, -3.2596290e-09,  7.4505806e-09,  0.0000000e+00,\n",
              "        5.5879354e-09], dtype=float32)"
            ]
          },
          "metadata": {},
          "execution_count": 352
        }
      ]
    },
    {
      "cell_type": "markdown",
      "metadata": {
        "id": "L0qxwoyoeevp"
      },
      "source": [
        "##7.b. **Sustantivos abstractos**"
      ]
    },
    {
      "cell_type": "markdown",
      "metadata": {
        "id": "eCYitdapfOuR"
      },
      "source": [
        "En el caso de los sustantivos abstractos, todas las palabras analizadas resultaron sesgadas, por lo que las incorporamos a todas."
      ]
    },
    {
      "cell_type": "code",
      "metadata": {
        "colab": {
          "base_uri": "https://localhost:8080/"
        },
        "id": "kBgFnv3ZdEC2",
        "outputId": "57620bd1-b1ec-4ea7-8f5b-b9a4964aac9f"
      },
      "source": [
        "we_es_socioeco_hard_debias[['inteligencia','belleza','humildad','sabiduría','poder','cariño','bondad','ambición','delicadeza',\n",
        "                            'amabilidad','paciencia','popularidad','fama','generosidad','honestidad','canto','maldad','soberbia',\n",
        "                            'violencia']] @ socioeco_direction_es"
      ],
      "execution_count": null,
      "outputs": [
        {
          "output_type": "execute_result",
          "data": {
            "text/plain": [
              "array([1.4901161e-08, 4.8428774e-08, 5.5879354e-09, 2.5145710e-08,\n",
              "       8.3819032e-09, 7.4505806e-09, 1.8626451e-08, 5.5879354e-08,\n",
              "       4.6566129e-09, 2.0489097e-08, 2.2351742e-08, 9.3132257e-09,\n",
              "       2.7939677e-08, 2.6077032e-08, 2.9802322e-08, 7.4505806e-09,\n",
              "       3.7252903e-09, 1.3969839e-08, 1.1175871e-08], dtype=float32)"
            ]
          },
          "metadata": {},
          "execution_count": 353
        }
      ]
    },
    {
      "cell_type": "markdown",
      "metadata": {
        "id": "qwQ66SsAfbjc"
      },
      "source": [
        "##7.b. **Adjetivos neutros**"
      ]
    },
    {
      "cell_type": "markdown",
      "metadata": {
        "id": "T_DOYIIRfmN0"
      },
      "source": [
        "Finalmente, en cuanto a los adjetivos neutros, incluimos todos excepto difícil y fácil, que resultaron neutros en nuestro análisis."
      ]
    },
    {
      "cell_type": "code",
      "metadata": {
        "colab": {
          "base_uri": "https://localhost:8080/"
        },
        "id": "X8-k7SlNfy1j",
        "outputId": "940d5c53-cca0-4381-f489-badc91d2a77a"
      },
      "source": [
        "we_es_socioeco_hard_debias[['inteligente','humilde','amable','dulce','audaz','paciente','popular','flexible','grande','brillante',\n",
        "                            'inocente','agradable','infeliz','capaz','temperamental']] @ socioeco_direction_es"
      ],
      "execution_count": null,
      "outputs": [
        {
          "output_type": "execute_result",
          "data": {
            "text/plain": [
              "array([ 1.7695129e-08,  2.1886081e-08,  6.5192580e-09,  3.7252903e-09,\n",
              "        2.8871000e-08, -3.5390258e-08,  0.0000000e+00,  1.8626451e-09,\n",
              "        1.8626451e-08,  2.4214387e-08, -1.8626451e-08,  3.7252903e-09,\n",
              "        9.3132257e-09,  1.3969839e-08,  1.4901161e-08], dtype=float32)"
            ]
          },
          "metadata": {},
          "execution_count": 354
        }
      ]
    },
    {
      "cell_type": "markdown",
      "metadata": {
        "id": "YSXY1EtvgQVq"
      },
      "source": [
        "#**Conclusión**"
      ]
    },
    {
      "cell_type": "markdown",
      "metadata": {
        "id": "_qI9ktCwg0b-"
      },
      "source": [
        "En este trabajo logramos abordar un análisis de sesgos existentes en relación al nivel socioeconómico de las personas. Encontramos una asociación muy fuerte entre las palabras indigente y pobre en relación a acaudalado/a, enriquecimiento y riqueza. Se encontraron mayor cantidad de palabras sesgadas en relación a las personas de muy bajos recursos que a las personas con más recursos. \n",
        "\n",
        "Las asociaciones encontradas con la indigencia y pobreza estuvieron relacionadas en mayor medida a la delincuencia, la violencia y comportamientos delictivos y carcelarios. En menor medida, al género y problemas mentales.\n",
        "\n",
        "Las asociaciones encontradas con personas de altos recursos estuvieron ligadas a la actitudes de acomodo, ilícito y a ciertas profesiones. \n",
        "\n",
        "No se encontraron asociaciones con nacionalidades ni con partidos o ideologías políticas. \n",
        "\n",
        "En un futuro nos gustaría explorar otros sesgos y prejuicios dentro de nuestra sociedad, tales como gordo-flaco y gorda-flaca, y también explorar qué sucede con la discapacidad, pero no encontramos un antónimo claro para este término, porque no sería \"capacidad\". Tal vez podríamos probar con diversas discapacidades: ciego vs ¿vidente?, sordo vs ¿oyente? aunque nos parece que no son las palabras correctas. Es fuerte que no haya forma de contrastarlo, esto debe ser porque los sesgos capacitistas están profundamente arraigados en nuestra sociedad  y podemos llamar a lo \"distinto\" que sale de la norma, pero la norma está implícita, viene arraigada a los conceptos de normal, humanidad, personas, por lo tanto es muy difícil encontrar una palabra exacta que sea antónimo de discapacidad.\n",
        "\n"
      ]
    },
    {
      "cell_type": "code",
      "metadata": {
        "id": "XjWLKrMA6A9W"
      },
      "source": [
        ""
      ],
      "execution_count": null,
      "outputs": []
    }
  ]
}